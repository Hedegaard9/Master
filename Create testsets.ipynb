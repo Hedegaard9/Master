{
 "cells": [
  {
   "cell_type": "code",
   "execution_count": 20,
   "id": "7267362e-1760-4070-ba04-41704694af7c",
   "metadata": {},
   "outputs": [
    {
     "name": "stdout",
     "output_type": "stream",
     "text": [
      "The autoreload extension is already loaded. To reload it, use:\n",
      "  %reload_ext autoreload\n",
      "1\n"
     ]
    }
   ],
   "source": [
    "import pandas as pd\n",
    "import matplotlib.pyplot as plt\n",
    "import Prepare_Data\n",
    "import pyarrow \n",
    "from Prepare_Data import load_and_filter_market_returns\n",
    "import data_run_files\n",
    "import os\n",
    "\n",
    "%load_ext autoreload\n",
    "%autoreload 2\n",
    "\n",
    "\n",
    "file_path_usa_dsf = \"./Data/usa_dsf.parquet\"\n",
    "file_path_usa = \"./Data/usa.parquet\"\n",
    "file_path_market_returns = \"./Data/market_returns.csv\"\n",
    "file_path_crsp_a_stock_with_id = \"./Data/crsp_a_stock_codes.csv\"\n",
    "file_path_cluster_labels = \"./Data/Cluster Labels.csv\"\n",
    "file_path_factor_details = \"./Data/Factor Details.xlsx\"\n",
    "file_path_tsla = \"./Data/tsla101.csv\"\n",
    "file_path_world_ret = \"./Data/world_ret_monthly.csv\"\n",
    "print(1)"
   ]
  },
  {
   "cell_type": "code",
   "execution_count": 21,
   "id": "11ede8a8-1bf9-4143-b64f-a74b4dc0ac53",
   "metadata": {},
   "outputs": [],
   "source": [
    "#Input paths\n",
    "rente_path = \"Data/ff3_m.csv\""
   ]
  },
  {
   "cell_type": "code",
   "execution_count": 22,
   "id": "f4ed1b7b-0a41-4e10-8629-72316c8ed347",
   "metadata": {},
   "outputs": [
    {
     "name": "stdout",
     "output_type": "stream",
     "text": [
      "Folder 'last_try_data1' created.\n"
     ]
    }
   ],
   "source": [
    "folder_name = \"last_try_data1\"\n",
    "\n",
    "if not os.path.exists(folder_name):\n",
    "    os.makedirs(folder_name)\n",
    "    print(f\"Folder '{folder_name}' created.\")\n",
    "else:\n",
    "    print(f\"Folder '{folder_name}' already exists.\")"
   ]
  },
  {
   "cell_type": "code",
   "execution_count": null,
   "id": "a19d1b98-3fe9-413c-8ff1-4ffd20c7cabd",
   "metadata": {},
   "outputs": [],
   "source": []
  },
  {
   "cell_type": "code",
   "execution_count": 23,
   "id": "56c73876-6590-4bc9-88cc-3ee944c67698",
   "metadata": {},
   "outputs": [],
   "source": [
    "# output_path\n",
    "risk_free_test_path = os.path.join(folder_name, \"risk_free_test.csv\")\n",
    "output_path_usa_dsf = os.path.join(folder_name, \"usa_dsf_test.parquet\")\n",
    "output_path_usa = os.path.join(folder_name, \"usa_test.parquet\")\n",
    "output_path_market_returns = os.path.join(folder_name, \"market_returns_test.csv\")\n",
    "world_ret_thres_test_path = os.path.join(folder_name, \"world_ret_test.csv\")"
   ]
  },
  {
   "cell_type": "code",
   "execution_count": 24,
   "id": "bdd906cf-a6ee-4100-9e74-32a5fa123cd5",
   "metadata": {},
   "outputs": [],
   "source": [
    "#Dates\n",
    "start_date = pd.to_datetime('1952-12-31')\n",
    "end_date = pd.to_datetime('2022-12-31')\n",
    "#Threshold \n",
    "thres = 0.96 #(vi beholder de øverste 10%, hvis den er lig 0.9)"
   ]
  },
  {
   "cell_type": "markdown",
   "id": "dcf83d8b-591b-4ed8-ab7f-4758d866c586",
   "metadata": {},
   "source": [
    "# Top_thres_ids.csv (csv fil med unikke id'er)"
   ]
  },
  {
   "cell_type": "code",
   "execution_count": 25,
   "id": "f6196b1b-0edb-4d8e-8cd5-32b52a76b35e",
   "metadata": {},
   "outputs": [
    {
     "name": "stdout",
     "output_type": "stream",
     "text": [
      "Fil indlæst med succes.\n"
     ]
    }
   ],
   "source": [
    "df_usa = pd.read_parquet(file_path_usa, engine='pyarrow')\n",
    "print(\"Fil indlæst med succes.\")"
   ]
  },
  {
   "cell_type": "code",
   "execution_count": 26,
   "id": "f8238c72-42df-4248-a376-a7b35f2ba4ef",
   "metadata": {},
   "outputs": [
    {
     "ename": "TypeError",
     "evalue": "int() argument must be a string, a bytes-like object or a real number, not '_NoValueType'",
     "output_type": "error",
     "traceback": [
      "\u001b[1;31m---------------------------------------------------------------------------\u001b[0m",
      "\u001b[1;31mTypeError\u001b[0m                                 Traceback (most recent call last)",
      "Cell \u001b[1;32mIn[26], line 2\u001b[0m\n\u001b[0;32m      1\u001b[0m \u001b[38;5;66;03m# Filtrer kun USA og id <= 99999\u001b[39;00m\n\u001b[1;32m----> 2\u001b[0m df_usa \u001b[38;5;241m=\u001b[39m df_usa[(df_usa[\u001b[38;5;124m\"\u001b[39m\u001b[38;5;124mexcntry\u001b[39m\u001b[38;5;124m\"\u001b[39m] \u001b[38;5;241m==\u001b[39m \u001b[38;5;124m\"\u001b[39m\u001b[38;5;124mUSA\u001b[39m\u001b[38;5;124m\"\u001b[39m) \u001b[38;5;241m&\u001b[39m (df_usa[\u001b[38;5;124m\"\u001b[39m\u001b[38;5;124mid\u001b[39m\u001b[38;5;124m\"\u001b[39m] \u001b[38;5;241m<\u001b[39m\u001b[38;5;241m=\u001b[39m \u001b[38;5;241m99999\u001b[39m)]\n",
      "File \u001b[1;32m~\\anaconda3\\envs\\fin_econ2024\\Lib\\site-packages\\pandas\\core\\frame.py:4093\u001b[0m, in \u001b[0;36mDataFrame.__getitem__\u001b[1;34m(self, key)\u001b[0m\n\u001b[0;32m   4091\u001b[0m \u001b[38;5;66;03m# Do we have a (boolean) 1d indexer?\u001b[39;00m\n\u001b[0;32m   4092\u001b[0m \u001b[38;5;28;01mif\u001b[39;00m com\u001b[38;5;241m.\u001b[39mis_bool_indexer(key):\n\u001b[1;32m-> 4093\u001b[0m     \u001b[38;5;28;01mreturn\u001b[39;00m \u001b[38;5;28mself\u001b[39m\u001b[38;5;241m.\u001b[39m_getitem_bool_array(key)\n\u001b[0;32m   4095\u001b[0m \u001b[38;5;66;03m# We are left with two options: a single key, and a collection of keys,\u001b[39;00m\n\u001b[0;32m   4096\u001b[0m \u001b[38;5;66;03m# We interpret tuples as collections only for non-MultiIndex\u001b[39;00m\n\u001b[0;32m   4097\u001b[0m is_single_key \u001b[38;5;241m=\u001b[39m \u001b[38;5;28misinstance\u001b[39m(key, \u001b[38;5;28mtuple\u001b[39m) \u001b[38;5;129;01mor\u001b[39;00m \u001b[38;5;129;01mnot\u001b[39;00m is_list_like(key)\n",
      "File \u001b[1;32m~\\anaconda3\\envs\\fin_econ2024\\Lib\\site-packages\\pandas\\core\\frame.py:4155\u001b[0m, in \u001b[0;36mDataFrame._getitem_bool_array\u001b[1;34m(self, key)\u001b[0m\n\u001b[0;32m   4152\u001b[0m     \u001b[38;5;28;01mreturn\u001b[39;00m \u001b[38;5;28mself\u001b[39m\u001b[38;5;241m.\u001b[39mcopy(deep\u001b[38;5;241m=\u001b[39m\u001b[38;5;28;01mNone\u001b[39;00m)\n\u001b[0;32m   4154\u001b[0m indexer \u001b[38;5;241m=\u001b[39m key\u001b[38;5;241m.\u001b[39mnonzero()[\u001b[38;5;241m0\u001b[39m]\n\u001b[1;32m-> 4155\u001b[0m \u001b[38;5;28;01mreturn\u001b[39;00m \u001b[38;5;28mself\u001b[39m\u001b[38;5;241m.\u001b[39m_take_with_is_copy(indexer, axis\u001b[38;5;241m=\u001b[39m\u001b[38;5;241m0\u001b[39m)\n",
      "File \u001b[1;32m~\\anaconda3\\envs\\fin_econ2024\\Lib\\site-packages\\pandas\\core\\generic.py:4153\u001b[0m, in \u001b[0;36mNDFrame._take_with_is_copy\u001b[1;34m(self, indices, axis)\u001b[0m\n\u001b[0;32m   4142\u001b[0m \u001b[38;5;129m@final\u001b[39m\n\u001b[0;32m   4143\u001b[0m \u001b[38;5;28;01mdef\u001b[39;00m \u001b[38;5;21m_take_with_is_copy\u001b[39m(\u001b[38;5;28mself\u001b[39m, indices, axis: Axis \u001b[38;5;241m=\u001b[39m \u001b[38;5;241m0\u001b[39m) \u001b[38;5;241m-\u001b[39m\u001b[38;5;241m>\u001b[39m Self:\n\u001b[0;32m   4144\u001b[0m \u001b[38;5;250m    \u001b[39m\u001b[38;5;124;03m\"\"\"\u001b[39;00m\n\u001b[0;32m   4145\u001b[0m \u001b[38;5;124;03m    Internal version of the `take` method that sets the `_is_copy`\u001b[39;00m\n\u001b[0;32m   4146\u001b[0m \u001b[38;5;124;03m    attribute to keep track of the parent dataframe (using in indexing\u001b[39;00m\n\u001b[1;32m   (...)\u001b[0m\n\u001b[0;32m   4151\u001b[0m \u001b[38;5;124;03m    See the docstring of `take` for full explanation of the parameters.\u001b[39;00m\n\u001b[0;32m   4152\u001b[0m \u001b[38;5;124;03m    \"\"\"\u001b[39;00m\n\u001b[1;32m-> 4153\u001b[0m     result \u001b[38;5;241m=\u001b[39m \u001b[38;5;28mself\u001b[39m\u001b[38;5;241m.\u001b[39mtake(indices\u001b[38;5;241m=\u001b[39mindices, axis\u001b[38;5;241m=\u001b[39maxis)\n\u001b[0;32m   4154\u001b[0m     \u001b[38;5;66;03m# Maybe set copy if we didn't actually change the index.\u001b[39;00m\n\u001b[0;32m   4155\u001b[0m     \u001b[38;5;28;01mif\u001b[39;00m \u001b[38;5;28mself\u001b[39m\u001b[38;5;241m.\u001b[39mndim \u001b[38;5;241m==\u001b[39m \u001b[38;5;241m2\u001b[39m \u001b[38;5;129;01mand\u001b[39;00m \u001b[38;5;129;01mnot\u001b[39;00m result\u001b[38;5;241m.\u001b[39m_get_axis(axis)\u001b[38;5;241m.\u001b[39mequals(\u001b[38;5;28mself\u001b[39m\u001b[38;5;241m.\u001b[39m_get_axis(axis)):\n",
      "File \u001b[1;32m~\\anaconda3\\envs\\fin_econ2024\\Lib\\site-packages\\pandas\\core\\generic.py:4133\u001b[0m, in \u001b[0;36mNDFrame.take\u001b[1;34m(self, indices, axis, **kwargs)\u001b[0m\n\u001b[0;32m   4128\u001b[0m     \u001b[38;5;66;03m# We can get here with a slice via DataFrame.__getitem__\u001b[39;00m\n\u001b[0;32m   4129\u001b[0m     indices \u001b[38;5;241m=\u001b[39m np\u001b[38;5;241m.\u001b[39marange(\n\u001b[0;32m   4130\u001b[0m         indices\u001b[38;5;241m.\u001b[39mstart, indices\u001b[38;5;241m.\u001b[39mstop, indices\u001b[38;5;241m.\u001b[39mstep, dtype\u001b[38;5;241m=\u001b[39mnp\u001b[38;5;241m.\u001b[39mintp\n\u001b[0;32m   4131\u001b[0m     )\n\u001b[1;32m-> 4133\u001b[0m new_data \u001b[38;5;241m=\u001b[39m \u001b[38;5;28mself\u001b[39m\u001b[38;5;241m.\u001b[39m_mgr\u001b[38;5;241m.\u001b[39mtake(\n\u001b[0;32m   4134\u001b[0m     indices,\n\u001b[0;32m   4135\u001b[0m     axis\u001b[38;5;241m=\u001b[39m\u001b[38;5;28mself\u001b[39m\u001b[38;5;241m.\u001b[39m_get_block_manager_axis(axis),\n\u001b[0;32m   4136\u001b[0m     verify\u001b[38;5;241m=\u001b[39m\u001b[38;5;28;01mTrue\u001b[39;00m,\n\u001b[0;32m   4137\u001b[0m )\n\u001b[0;32m   4138\u001b[0m \u001b[38;5;28;01mreturn\u001b[39;00m \u001b[38;5;28mself\u001b[39m\u001b[38;5;241m.\u001b[39m_constructor_from_mgr(new_data, axes\u001b[38;5;241m=\u001b[39mnew_data\u001b[38;5;241m.\u001b[39maxes)\u001b[38;5;241m.\u001b[39m__finalize__(\n\u001b[0;32m   4139\u001b[0m     \u001b[38;5;28mself\u001b[39m, method\u001b[38;5;241m=\u001b[39m\u001b[38;5;124m\"\u001b[39m\u001b[38;5;124mtake\u001b[39m\u001b[38;5;124m\"\u001b[39m\n\u001b[0;32m   4140\u001b[0m )\n",
      "File \u001b[1;32m~\\anaconda3\\envs\\fin_econ2024\\Lib\\site-packages\\pandas\\core\\internals\\managers.py:893\u001b[0m, in \u001b[0;36mBaseBlockManager.take\u001b[1;34m(self, indexer, axis, verify)\u001b[0m\n\u001b[0;32m    890\u001b[0m n \u001b[38;5;241m=\u001b[39m \u001b[38;5;28mself\u001b[39m\u001b[38;5;241m.\u001b[39mshape[axis]\n\u001b[0;32m    891\u001b[0m indexer \u001b[38;5;241m=\u001b[39m maybe_convert_indices(indexer, n, verify\u001b[38;5;241m=\u001b[39mverify)\n\u001b[1;32m--> 893\u001b[0m new_labels \u001b[38;5;241m=\u001b[39m \u001b[38;5;28mself\u001b[39m\u001b[38;5;241m.\u001b[39maxes[axis]\u001b[38;5;241m.\u001b[39mtake(indexer)\n\u001b[0;32m    894\u001b[0m \u001b[38;5;28;01mreturn\u001b[39;00m \u001b[38;5;28mself\u001b[39m\u001b[38;5;241m.\u001b[39mreindex_indexer(\n\u001b[0;32m    895\u001b[0m     new_axis\u001b[38;5;241m=\u001b[39mnew_labels,\n\u001b[0;32m    896\u001b[0m     indexer\u001b[38;5;241m=\u001b[39mindexer,\n\u001b[1;32m   (...)\u001b[0m\n\u001b[0;32m    899\u001b[0m     copy\u001b[38;5;241m=\u001b[39m\u001b[38;5;28;01mNone\u001b[39;00m,\n\u001b[0;32m    900\u001b[0m )\n",
      "File \u001b[1;32m~\\anaconda3\\envs\\fin_econ2024\\Lib\\site-packages\\pandas\\core\\indexes\\range.py:1168\u001b[0m, in \u001b[0;36mRangeIndex.take\u001b[1;34m(self, indices, axis, allow_fill, fill_value, **kwargs)\u001b[0m\n\u001b[0;32m   1166\u001b[0m     taken \u001b[38;5;241m=\u001b[39m np\u001b[38;5;241m.\u001b[39marray([], dtype\u001b[38;5;241m=\u001b[39m\u001b[38;5;28mself\u001b[39m\u001b[38;5;241m.\u001b[39mdtype)\n\u001b[0;32m   1167\u001b[0m \u001b[38;5;28;01melse\u001b[39;00m:\n\u001b[1;32m-> 1168\u001b[0m     ind_max \u001b[38;5;241m=\u001b[39m indices\u001b[38;5;241m.\u001b[39mmax()\n\u001b[0;32m   1169\u001b[0m     \u001b[38;5;28;01mif\u001b[39;00m ind_max \u001b[38;5;241m>\u001b[39m\u001b[38;5;241m=\u001b[39m \u001b[38;5;28mlen\u001b[39m(\u001b[38;5;28mself\u001b[39m):\n\u001b[0;32m   1170\u001b[0m         \u001b[38;5;28;01mraise\u001b[39;00m \u001b[38;5;167;01mIndexError\u001b[39;00m(\n\u001b[0;32m   1171\u001b[0m             \u001b[38;5;124mf\u001b[39m\u001b[38;5;124m\"\u001b[39m\u001b[38;5;124mindex \u001b[39m\u001b[38;5;132;01m{\u001b[39;00mind_max\u001b[38;5;132;01m}\u001b[39;00m\u001b[38;5;124m is out of bounds for axis 0 with size \u001b[39m\u001b[38;5;132;01m{\u001b[39;00m\u001b[38;5;28mlen\u001b[39m(\u001b[38;5;28mself\u001b[39m)\u001b[38;5;132;01m}\u001b[39;00m\u001b[38;5;124m\"\u001b[39m\n\u001b[0;32m   1172\u001b[0m         )\n",
      "File \u001b[1;32m~\\anaconda3\\envs\\fin_econ2024\\Lib\\site-packages\\numpy\\core\\_methods.py:41\u001b[0m, in \u001b[0;36m_amax\u001b[1;34m(a, axis, out, keepdims, initial, where)\u001b[0m\n\u001b[0;32m     39\u001b[0m \u001b[38;5;28;01mdef\u001b[39;00m \u001b[38;5;21m_amax\u001b[39m(a, axis\u001b[38;5;241m=\u001b[39m\u001b[38;5;28;01mNone\u001b[39;00m, out\u001b[38;5;241m=\u001b[39m\u001b[38;5;28;01mNone\u001b[39;00m, keepdims\u001b[38;5;241m=\u001b[39m\u001b[38;5;28;01mFalse\u001b[39;00m,\n\u001b[0;32m     40\u001b[0m           initial\u001b[38;5;241m=\u001b[39m_NoValue, where\u001b[38;5;241m=\u001b[39m\u001b[38;5;28;01mTrue\u001b[39;00m):\n\u001b[1;32m---> 41\u001b[0m     \u001b[38;5;28;01mreturn\u001b[39;00m umr_maximum(a, axis, \u001b[38;5;28;01mNone\u001b[39;00m, out, keepdims, initial, where)\n",
      "\u001b[1;31mTypeError\u001b[0m: int() argument must be a string, a bytes-like object or a real number, not '_NoValueType'"
     ]
    }
   ],
   "source": [
    "# Filtrer kun USA og id <= 99999\n",
    "df_usa = df_usa[(df_usa[\"excntry\"] == \"USA\") & (df_usa[\"id\"] <= 99999)]"
   ]
  },
  {
   "cell_type": "code",
   "execution_count": null,
   "id": "7e2a16dc-c813-417f-a47a-310b74a6d598",
   "metadata": {
    "scrolled": true
   },
   "outputs": [],
   "source": [
    "df_usa.loc[:, 'eom'] = pd.to_datetime(df_usa['eom'], errors='coerce')\n",
    "\n",
    "df_usa_filtered = df_usa[df_usa['eom'] >= start_date]\n",
    "\n",
    "print(df_usa_filtered.head())\n",
    "print(f\"Antal observationer efter filtrering: {len(df_usa_filtered)}\")\n",
    "\n",
    "print(df_usa_filtered['eom'].min())  "
   ]
  },
  {
   "cell_type": "code",
   "execution_count": null,
   "id": "e5d980f2-7a7a-4972-92ba-400432334800",
   "metadata": {},
   "outputs": [],
   "source": [
    "\n",
    "company_median_equity = df_usa_filtered.groupby('id')['market_equity'].median()\n",
    "\n",
    "threshold = company_median_equity.quantile(thres)\n",
    "\n",
    "top_thres_ids = company_median_equity[company_median_equity >= threshold].index\n",
    "\n",
    "df_thres_ids = df_usa_filtered[df_usa_filtered['id'].isin(top_thres_ids)]\n",
    "\n",
    "print(f\"Grænseværdi for top 15% virksomheder: {threshold}\")\n",
    "print(f\"Antal unikke virksomheder i top 15%: {len(top_thres_ids)}\")"
   ]
  },
  {
   "cell_type": "code",
   "execution_count": null,
   "id": "e77d2034-f5a5-4d13-83da-c7c9ba7c379c",
   "metadata": {},
   "outputs": [],
   "source": [
    "top_thres_ids"
   ]
  },
  {
   "cell_type": "code",
   "execution_count": null,
   "id": "b1dd772b-74e1-40aa-933e-f69ee4555b7e",
   "metadata": {},
   "outputs": [],
   "source": [
    "top_thres_ids.unique()"
   ]
  },
  {
   "cell_type": "code",
   "execution_count": null,
   "id": "bfdc662a-0481-4d2e-b547-21c82e4eada2",
   "metadata": {},
   "outputs": [],
   "source": []
  },
  {
   "cell_type": "code",
   "execution_count": 15,
   "id": "94967d1f-d29a-4031-8363-7d896a244d1d",
   "metadata": {},
   "outputs": [],
   "source": [
    "# Find første og sidste dato i dataset\n",
    "first_date = df_thres_ids['eom'].min()\n",
    "first_date2 = pd.to_datetime('2000-12-31')\n",
    "print(first_date2)\n",
    "last_date = df_thres_ids['eom'].max()\n",
    "print(last_date)\n",
    "# Filtrer virksomheder, der har data på både første og sidste dato\n",
    "df_thres_ids = df_thres_ids.groupby('id').filter(\n",
    "    lambda x: (first_date2 in x['eom'].values) and (last_date in x['eom'].values)\n",
    ")\n",
    "# Udskriv antal unikke virksomheder efter filtrering\n",
    "print(f\"Antal unikke virksomheder med data på både første og sidste dato: {df_thres_ids['id'].nunique()}\")"
   ]
  },
  {
   "cell_type": "code",
   "execution_count": null,
   "id": "33a67c9e-2251-470b-be7d-9c1eabb3ec76",
   "metadata": {},
   "outputs": [],
   "source": [
    "df_ids = pd.DataFrame(df_thres_ids['id'].unique(), columns=['id'])\n",
    "df_ids_path = os.path.join(folder_name, \"top_5_percent_ids.csv\")\n",
    "# Gem til en CSV-fil uden index-kolonne\n",
    "df_ids.to_csv(df_ids_path, index=False)\n",
    "\n",
    "    \n",
    "print(\"Fil gemt som 'top_5_percent_ids.csv'\")"
   ]
  },
  {
   "cell_type": "markdown",
   "id": "6d21ac9e-05f4-44bf-a7b4-89a650191a10",
   "metadata": {},
   "source": [
    "# De andre filer (med antal id's fra thres og start-end date)"
   ]
  },
  {
   "cell_type": "code",
   "execution_count": 17,
   "id": "b8fee8c5-88b6-4d6f-80b8-a5fbcdb3b093",
   "metadata": {},
   "outputs": [],
   "source": [
    "file_path_id_test = os.path.join(folder_name, \"top_5_percent_ids.csv\")\n",
    "file_path_usa = \"./Data/usa_rvol.parquet\" #Vi skal have den med rvol som er med i"
   ]
  },
  {
   "cell_type": "code",
   "execution_count": 18,
   "id": "1a48dadb-043e-48ba-8a27-f4cae402c7ff",
   "metadata": {},
   "outputs": [
    {
     "name": "stdout",
     "output_type": "stream",
     "text": [
      "Filtrering udført. Antal rækker efter filtrering: 841\n",
      "Fil gemt som last_try_data\\risk_free_test.csv\n",
      "Fil ./Data/usa_dsf.parquet indlæst med succes. Antal rækker før filtrering: 176877668\n",
      "Filtrering af ID'er udført. Antal rækker efter filtrering: 2928463\n",
      "Bruger 'date' i stedet for 'eom'.\n",
      "Filtrering på startdato 1952-12-31 00:00:00 udført. Antal rækker efter filtrering: 2772851\n",
      "Antal unikke virksomheder efter filtrering: 493\n",
      "Fil gemt som last_try_data\\usa_dsf_test.parquet\n",
      "Fil ./Data/usa_rvol.parquet indlæst med succes. Antal rækker før filtrering: 1373911\n",
      "Filtrering af ID'er udført. Antal rækker efter filtrering: 123574\n",
      "Filtrering på startdato 1952-12-31 00:00:00 udført. Antal rækker efter filtrering: 123286\n",
      "Antal unikke virksomheder efter filtrering: 493\n",
      "Fil gemt som last_try_data\\usa_test.parquet\n",
      "Filen er indlæst og filtreret succesfuldt.\n",
      "Fil gemt som last_try_data\\market_returns_test.csv med 841 rækker.\n",
      "All missing excludes 1.41% of the observations\n",
      "Data gemt i: last_try_data\\world_ret_test.csv\n",
      "           id excntry        eom          me       ret  ret_local   ret_exc  \\\n",
      "260462  14736     USA 1952-12-31  1587.25875  0.028953   0.028953  0.027200   \n",
      "260479  18411     USA 1952-12-31   273.28000 -0.015385  -0.015385 -0.017138   \n",
      "260484  14277     USA 1952-12-31     9.37500 -0.016393  -0.016393 -0.018146   \n",
      "260489  14322     USA 1952-12-31  1450.02000  0.006289   0.006289  0.004536   \n",
      "260502  18163     USA 1952-12-31   649.01250 -0.014599  -0.014599 -0.016352   \n",
      "\n",
      "        source_crsp  \n",
      "260462            1  \n",
      "260479            1  \n",
      "260484            1  \n",
      "260489            1  \n",
      "260502            1  \n",
      "             id excntry        eom             me       ret  ret_local  \\\n",
      "24068977  77702     USA 2022-12-31  113931.196500 -0.029354  -0.029354   \n",
      "24069021  11955     USA 2022-12-31   64395.633764 -0.060756  -0.060756   \n",
      "24069025  75607     USA 2022-12-31   13693.770195 -0.066638  -0.066638   \n",
      "24069064  76076     USA 2022-12-31  195710.024410 -0.041834  -0.041834   \n",
      "24069071  75828     USA 2022-12-31   33599.500084 -0.065759  -0.065759   \n",
      "\n",
      "           ret_exc  source_crsp  \n",
      "24068977 -0.032733            1  \n",
      "24069021 -0.064135            1  \n",
      "24069025 -0.070017            1  \n",
      "24069064 -0.045213            1  \n",
      "24069071 -0.069138            1  \n",
      "Shape efter dato-filter: (128744, 8)\n",
      "Antal unikke ID'er efter dato-filter: 493\n"
     ]
    }
   ],
   "source": [
    "risk_free = data_run_files.process_risk_free_rate(rente_path, start_date, end_date, output_path = risk_free_test_path)\n",
    "# Filtrér ID'er for usa_dsf og usa\n",
    "data_run_files.filter_ids_from_dataset(file_path_usa_dsf, file_path_id_test, output_path_usa_dsf, start_date)\n",
    "data_run_files.filter_ids_from_dataset(file_path_usa, file_path_id_test, output_path_usa, start_date)\n",
    "data_run_files.filter_and_save_data(file_path_market_returns, start_date, end_date, output_path_market_returns)\n",
    "h_list = [1]  # Horisonter\n",
    "dataret = data_run_files.monthly_returns(risk_free, h_list, output_path_usa)\n",
    "data_run_files.world_ret_monthly_test_filter(file_path_id_test, file_path_world_ret, start_date, end_date, output_file = world_ret_thres_test_path)"
   ]
  },
  {
   "cell_type": "code",
   "execution_count": null,
   "id": "6bdb5f6c-1b5f-45bc-9285-0da00323d182",
   "metadata": {},
   "outputs": [],
   "source": []
  }
 ],
 "metadata": {
  "kernelspec": {
   "display_name": "Python 3 (ipykernel)",
   "language": "python",
   "name": "python3"
  },
  "language_info": {
   "codemirror_mode": {
    "name": "ipython",
    "version": 3
   },
   "file_extension": ".py",
   "mimetype": "text/x-python",
   "name": "python",
   "nbconvert_exporter": "python",
   "pygments_lexer": "ipython3",
   "version": "3.12.5"
  }
 },
 "nbformat": 4,
 "nbformat_minor": 5
}
