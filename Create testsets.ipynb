{
 "cells": [
  {
   "cell_type": "code",
   "execution_count": 1,
   "id": "7267362e-1760-4070-ba04-41704694af7c",
   "metadata": {},
   "outputs": [
    {
     "name": "stdout",
     "output_type": "stream",
     "text": [
      "Features list length: 154\n",
      "1\n"
     ]
    }
   ],
   "source": [
    "import pandas as pd\n",
    "import matplotlib.pyplot as plt\n",
    "import Prepare_Data\n",
    "import pyarrow \n",
    "from Prepare_Data import load_and_filter_market_returns\n",
    "import data_run_files\n",
    "#autoreload download #pip install ipython\n",
    "%load_ext autoreload\n",
    "%autoreload 2\n",
    "\n",
    "#file_path_id_test=\"./data_test/top_5_percent_ids.csv\"\n",
    "# Sti til usa_dsf.parquet\n",
    "file_path_usa_dsf = \"./Data/usa_dsf.parquet\"\n",
    "file_path_usa = \"./Data/usa.parquet\"\n",
    "file_path_market_returns = \"./Data/market_returns.csv\"\n",
    "file_path_crsp_a_stock_with_id = \"./Data/crsp_a_stock_codes.csv\"\n",
    "file_path_cluster_labels = \"./Data/Cluster Labels.csv\"\n",
    "file_path_factor_details = \"./Data/Factor Details.xlsx\"\n",
    "file_path_tsla = \"./Data/tsla101.csv\"\n",
    "file_path_world_ret = \"./Data/world_ret_monthly.csv\"\n",
    "print(1)"
   ]
  },
  {
   "cell_type": "code",
   "execution_count": 2,
   "id": "11ede8a8-1bf9-4143-b64f-a74b4dc0ac53",
   "metadata": {},
   "outputs": [],
   "source": [
    "#Input paths\n",
    "rente_path = \"Data/ff3_m.csv\""
   ]
  },
  {
   "cell_type": "code",
   "execution_count": null,
   "id": "f4ed1b7b-0a41-4e10-8629-72316c8ed347",
   "metadata": {},
   "outputs": [],
   "source": [
    "folder_name = \"new_data\"\n",
    "\n",
    "if not os.path.exists(folder_name):\n",
    "    os.makedirs(folder_name)\n",
    "    print(f\"Folder '{folder_name}' created.\")\n",
    "else:\n",
    "    print(f\"Folder '{folder_name}' already exists.\")"
   ]
  },
  {
   "cell_type": "code",
   "execution_count": null,
   "id": "a19d1b98-3fe9-413c-8ff1-4ffd20c7cabd",
   "metadata": {},
   "outputs": [],
   "source": []
  },
  {
   "cell_type": "code",
   "execution_count": null,
   "id": "56c73876-6590-4bc9-88cc-3ee944c67698",
   "metadata": {},
   "outputs": [],
   "source": [
    "# output_path\n",
    "risk_free_test_path = os.path.join(folder_name, \"risk_free_test.csv\")\n",
    "output_path_usa_dsf = os.path.join(folder_name, \"usa_dsf_test.parquet\")\n",
    "output_path_usa = os.path.join(folder_name, \"usa_test.parquet\")\n",
    "output_path_market_returns = os.path.join(folder_name, \"market_returns_test.csv\")\n",
    "world_ret_thres_test_path = os.path.join(folder_name, \"world_ret_test.csv\")"
   ]
  },
  {
   "cell_type": "code",
   "execution_count": 4,
   "id": "bdd906cf-a6ee-4100-9e74-32a5fa123cd5",
   "metadata": {},
   "outputs": [],
   "source": [
    "#Dates\n",
    "start_date = pd.to_datetime('1952-12-31')\n",
    "end_date = pd.to_datetime('2022-12-31')\n",
    "#Threshold \n",
    "thres = 0.95 #(vi beholder de øverste 10%, hvis den er lig 0.9)"
   ]
  },
  {
   "cell_type": "markdown",
   "id": "dcf83d8b-591b-4ed8-ab7f-4758d866c586",
   "metadata": {},
   "source": [
    "# Top_thres_ids.csv (csv fil med unikke id'er)"
   ]
  },
  {
   "cell_type": "code",
   "execution_count": 5,
   "id": "f6196b1b-0edb-4d8e-8cd5-32b52a76b35e",
   "metadata": {},
   "outputs": [
    {
     "name": "stdout",
     "output_type": "stream",
     "text": [
      "Fil indlæst med succes.\n"
     ]
    }
   ],
   "source": [
    "df_usa = pd.read_parquet(file_path_usa, engine='pyarrow')\n",
    "print(\"Fil indlæst med succes.\")"
   ]
  },
  {
   "cell_type": "code",
   "execution_count": 6,
   "id": "f8238c72-42df-4248-a376-a7b35f2ba4ef",
   "metadata": {},
   "outputs": [],
   "source": [
    "# Filtrer kun USA og id <= 99999\n",
    "df_usa = df_usa[(df_usa[\"excntry\"] == \"USA\") & (df_usa[\"id\"] <= 99999)]"
   ]
  },
  {
   "cell_type": "code",
   "execution_count": 7,
   "id": "7e2a16dc-c813-417f-a47a-310b74a6d598",
   "metadata": {},
   "outputs": [
    {
     "name": "stdout",
     "output_type": "stream",
     "text": [
      "      eom_ret     id                  eom  valid_ret excntry         me   sic  \\\n",
      "4  1953-01-31  10006  1952-12-31 00:00:00       True     USA  24.218250  3740   \n",
      "5  1953-02-28  10006  1953-01-31 00:00:00       True     USA  23.394500  3740   \n",
      "6  1953-03-31  10006  1953-02-28 00:00:00       True     USA  26.030500  3740   \n",
      "7  1953-04-30  10006  1953-03-31 00:00:00       True     USA  24.053500  3740   \n",
      "8  1953-05-31  10006  1953-04-30 00:00:00       True     USA  25.124375  3740   \n",
      "\n",
      "  size_grp  ret_exc_lead1m  niq_su  ...     ni_be    ocf_at  ocf_at_chg1  \\\n",
      "4    small       -0.035634     NaN  ...  0.100695  0.084642     0.038812   \n",
      "5    small        0.111274     NaN  ...  0.100695  0.084642     0.038812   \n",
      "6    small       -0.058854     NaN  ...  0.100695  0.084642     0.038812   \n",
      "7    small        0.042885     NaN  ...  0.100695  0.084642     0.038812   \n",
      "8    small        0.263852     NaN  ...  0.100695  0.084642     0.038812   \n",
      "\n",
      "   mispricing_perf  mispricing_mgmt  qmj  qmj_prof  qmj_growth  qmj_safety  \\\n",
      "4         0.575019         0.667461  NaN  0.395463         NaN   -0.223198   \n",
      "5         0.654311         0.663235  NaN  0.390803         NaN   -0.153599   \n",
      "6         0.565347         0.662090  NaN  0.428745         NaN   -0.166422   \n",
      "7         0.676796         0.703290  NaN  0.439165         NaN   -0.223840   \n",
      "8         0.673364         0.664946  NaN  0.557875         NaN   -0.081148   \n",
      "\n",
      "   ctff_test  \n",
      "4      False  \n",
      "5      False  \n",
      "6      False  \n",
      "7      False  \n",
      "8      False  \n",
      "\n",
      "[5 rows x 163 columns]\n",
      "Antal observationer efter filtrering: 1365746\n",
      "1952-12-31 00:00:00\n"
     ]
    }
   ],
   "source": [
    "df_usa.loc[:, 'eom'] = pd.to_datetime(df_usa['eom'], errors='coerce')\n",
    "# Filtrer kun data fra og med 2010\n",
    "df_usa_filtered = df_usa[df_usa['eom'] >= start_date]\n",
    "\n",
    "# Bekræft ændringen\n",
    "print(df_usa_filtered.head())\n",
    "print(f\"Antal observationer efter filtrering: {len(df_usa_filtered)}\")\n",
    "\n",
    "# Valider at filtreringen virker\n",
    "print(df_usa_filtered['eom'].min())  # Skal vise en dato >= start_date"
   ]
  },
  {
   "cell_type": "code",
   "execution_count": 8,
   "id": "e5d980f2-7a7a-4972-92ba-400432334800",
   "metadata": {},
   "outputs": [
    {
     "name": "stdout",
     "output_type": "stream",
     "text": [
      "Grænseværdi for top 15% virksomheder: 6382.731123102463\n",
      "Antal unikke virksomheder i top 15%: 616\n"
     ]
    }
   ],
   "source": [
    "# Beregn median market equity for hver virksomhed\n",
    "company_median_equity = df_usa_filtered.groupby('id')['market_equity'].median()\n",
    "\n",
    "# Find 95. percentilen for virksomheders median market equity\n",
    "threshold = company_median_equity.quantile(thres)\n",
    "\n",
    "# Udvælg top 5% af virksomhederne (dem med median market equity >= threshold)\n",
    "top_thres_ids = company_median_equity[company_median_equity >= threshold].index\n",
    "\n",
    "# Filtrer df_usa_filtered, så det kun indeholder disse virksomheder\n",
    "df_thres_ids = df_usa_filtered[df_usa_filtered['id'].isin(top_thres_ids)]\n",
    "\n",
    "# Udskriv information\n",
    "print(f\"Grænseværdi for top 15% virksomheder: {threshold}\")\n",
    "print(f\"Antal unikke virksomheder i top 15%: {len(top_thres_ids)}\")"
   ]
  },
  {
   "cell_type": "code",
   "execution_count": 9,
   "id": "e77d2034-f5a5-4d13-83da-c7c9ba7c379c",
   "metadata": {},
   "outputs": [
    {
     "data": {
      "text/plain": [
       "Index([10078, 10104, 10107, 10138, 10147, 10299, 10324, 10401, 10696, 11042,\n",
       "       ...\n",
       "       93089, 93094, 93096, 93101, 93132, 93150, 93296, 93312, 93338, 93436],\n",
       "      dtype='int32', name='id', length=616)"
      ]
     },
     "execution_count": 9,
     "metadata": {},
     "output_type": "execute_result"
    }
   ],
   "source": [
    "top_thres_ids"
   ]
  },
  {
   "cell_type": "code",
   "execution_count": 10,
   "id": "b1dd772b-74e1-40aa-933e-f69ee4555b7e",
   "metadata": {},
   "outputs": [
    {
     "data": {
      "text/plain": [
       "Index([10078, 10104, 10107, 10138, 10147, 10299, 10324, 10401, 10696, 11042,\n",
       "       ...\n",
       "       93089, 93094, 93096, 93101, 93132, 93150, 93296, 93312, 93338, 93436],\n",
       "      dtype='int32', name='id', length=616)"
      ]
     },
     "execution_count": 10,
     "metadata": {},
     "output_type": "execute_result"
    }
   ],
   "source": [
    "top_thres_ids.unique()"
   ]
  },
  {
   "cell_type": "code",
   "execution_count": null,
   "id": "bfdc662a-0481-4d2e-b547-21c82e4eada2",
   "metadata": {},
   "outputs": [],
   "source": []
  },
  {
   "cell_type": "code",
   "execution_count": 11,
   "id": "94967d1f-d29a-4031-8363-7d896a244d1d",
   "metadata": {},
   "outputs": [
    {
     "name": "stdout",
     "output_type": "stream",
     "text": [
      "Antal unikke virksomheder med data på både første og sidste dato: 180\n"
     ]
    }
   ],
   "source": [
    "# Find første og sidste dato i dataset\n",
    "first_date = df_thres_ids['eom'].min()\n",
    "first_date2 = pd.to_datetime('2000-12-31')\n",
    "last_date = df_thres_ids['eom'].max()\n",
    "\n",
    "# Filtrer virksomheder, der har data på både første og sidste dato\n",
    "df_thres_ids = df_thres_ids.groupby('id').filter(\n",
    "    lambda x: (first_date2 in x['eom'].values) and (last_date in x['eom'].values)\n",
    ")\n",
    "# Udskriv antal unikke virksomheder efter filtrering\n",
    "print(f\"Antal unikke virksomheder med data på både første og sidste dato: {df_thres_ids['id'].nunique()}\")"
   ]
  },
  {
   "cell_type": "code",
   "execution_count": 12,
   "id": "33a67c9e-2251-470b-be7d-9c1eabb3ec76",
   "metadata": {},
   "outputs": [
    {
     "name": "stdout",
     "output_type": "stream",
     "text": [
      "Fil gemt som 'top_5_percent_ids.csv'\n"
     ]
    }
   ],
   "source": [
    "df_ids = pd.DataFrame(df_thres_ids['id'].unique(), columns=['id'])\n",
    "df_ids_path = os.path.join(folder_name, \"top_5_percent_ids.csv\")\n",
    "# Gem til en CSV-fil uden index-kolonne\n",
    "df_ids.to_csv(df_ids_path, index=False)\n",
    "\n",
    "    \n",
    "print(\"Fil gemt som 'top_5_percent_ids.csv'\")"
   ]
  },
  {
   "cell_type": "markdown",
   "id": "6d21ac9e-05f4-44bf-a7b4-89a650191a10",
   "metadata": {},
   "source": [
    "# De andre filer (med antal id's fra thres og start-end date)"
   ]
  },
  {
   "cell_type": "code",
   "execution_count": 13,
   "id": "b8fee8c5-88b6-4d6f-80b8-a5fbcdb3b093",
   "metadata": {},
   "outputs": [],
   "source": [
    "file_path_id_test = os.path.join(folder_name, \"top_5_percent_ids.csv\")\n",
    "file_path_usa = \"./Data/usa_rvol.parquet\" #Vi skal have den med rvol som er med i"
   ]
  },
  {
   "cell_type": "code",
   "execution_count": 14,
   "id": "1a48dadb-043e-48ba-8a27-f4cae402c7ff",
   "metadata": {},
   "outputs": [
    {
     "name": "stdout",
     "output_type": "stream",
     "text": [
      "Filtrering udført. Antal rækker efter filtrering: 841\n",
      "Fil gemt som ./data_fifty/risk_free_test.csv\n",
      "Fil ./Data/usa_dsf.parquet indlæst med succes. Antal rækker før filtrering: 176877668\n",
      "Filtrering af ID'er udført. Antal rækker efter filtrering: 2072920\n",
      "Bruger 'date' i stedet for 'eom'.\n",
      "Filtrering på startdato 1952-12-31 00:00:00 udført. Antal rækker efter filtrering: 1953639\n",
      "Antal unikke virksomheder efter filtrering: 180\n",
      "Fil gemt som ./data_fifty/usa_dsf_test.parquet\n",
      "Fil ./Data/usa_rvol.parquet indlæst med succes. Antal rækker før filtrering: 1373911\n",
      "Filtrering af ID'er udført. Antal rækker efter filtrering: 89046\n",
      "Filtrering på startdato 1952-12-31 00:00:00 udført. Antal rækker efter filtrering: 88864\n",
      "Antal unikke virksomheder efter filtrering: 180\n",
      "Fil gemt som ./data_fifty/usa_test.parquet\n",
      "Filen er indlæst og filtreret succesfuldt.\n",
      "Fil gemt som ./data_fifty/market_returns_test.csv med 841 rækker.\n",
      "All missing excludes 42.07% of the observations\n",
      "Data gemt i: ./data_fifty/world_ret_test.csv\n",
      "           id excntry        eom          me       ret  ret_local   ret_exc  \\\n",
      "260479  18411     USA 1952-12-31  273.280000 -0.015385  -0.015385 -0.017138   \n",
      "260484  14277     USA 1952-12-31    9.375000 -0.016393  -0.016393 -0.018146   \n",
      "260502  18163     USA 1952-12-31  649.012500 -0.014599  -0.014599 -0.016352   \n",
      "260504  15720     USA 1952-12-31  209.713875  0.000000   0.000000 -0.001753   \n",
      "260517  13856     USA 1952-12-31   68.305000  0.250000   0.250000  0.248247   \n",
      "\n",
      "        source_crsp  \n",
      "260479            1  \n",
      "260484            1  \n",
      "260502            1  \n",
      "260504            1  \n",
      "260517            1  \n",
      "             id excntry        eom             me       ret  ret_local  \\\n",
      "24069025  75607     USA 2022-12-31   13693.770195 -0.066638  -0.066638   \n",
      "24069040  12062     USA 2022-12-31   20863.527621 -0.021687  -0.021687   \n",
      "24069064  76076     USA 2022-12-31  195710.024410 -0.041834  -0.041834   \n",
      "24069071  75828     USA 2022-12-31   33599.500084 -0.065759  -0.065759   \n",
      "24069138  10696     USA 2022-12-31   63674.099808 -0.031525  -0.031525   \n",
      "\n",
      "           ret_exc  source_crsp  \n",
      "24069025 -0.070017            1  \n",
      "24069040 -0.025066            1  \n",
      "24069064 -0.045213            1  \n",
      "24069071 -0.069138            1  \n",
      "24069138 -0.034904            1  \n",
      "Shape efter dato-filter: (91364, 8)\n",
      "Antal unikke ID'er efter dato-filter: 180\n"
     ]
    }
   ],
   "source": [
    "risk_free = data_run_files.process_risk_free_rate(rente_path, start_date, end_date, output_path = risk_free_test_path)\n",
    "# Filtrér ID'er for usa_dsf og usa\n",
    "data_run_files.filter_ids_from_dataset(file_path_usa_dsf, file_path_id_test, output_path_usa_dsf, start_date)\n",
    "data_run_files.filter_ids_from_dataset(file_path_usa, file_path_id_test, output_path_usa, start_date)\n",
    "data_run_files.filter_and_save_data(file_path_market_returns, start_date, end_date, output_path_market_returns)\n",
    "h_list = [1]  # Horisonter\n",
    "dataret = data_run_files.monthly_returns(risk_free, h_list, output_path_usa)\n",
    "data_run_files.world_ret_monthly_test_filter(file_path_id_test, file_path_world_ret, start_date, end_date, output_file = world_ret_thres_test_path)"
   ]
  },
  {
   "cell_type": "code",
   "execution_count": null,
   "id": "6bdb5f6c-1b5f-45bc-9285-0da00323d182",
   "metadata": {},
   "outputs": [],
   "source": []
  }
 ],
 "metadata": {
  "kernelspec": {
   "display_name": "Python 3 (ipykernel)",
   "language": "python",
   "name": "python3"
  },
  "language_info": {
   "codemirror_mode": {
    "name": "ipython",
    "version": 3
   },
   "file_extension": ".py",
   "mimetype": "text/x-python",
   "name": "python",
   "nbconvert_exporter": "python",
   "pygments_lexer": "ipython3",
   "version": "3.12.5"
  }
 },
 "nbformat": 4,
 "nbformat_minor": 5
}
