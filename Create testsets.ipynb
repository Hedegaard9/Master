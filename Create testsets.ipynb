{
 "cells": [
  {
   "cell_type": "code",
   "execution_count": 38,
   "id": "7267362e-1760-4070-ba04-41704694af7c",
   "metadata": {},
   "outputs": [
    {
     "name": "stdout",
     "output_type": "stream",
     "text": [
      "The autoreload extension is already loaded. To reload it, use:\n",
      "  %reload_ext autoreload\n"
     ]
    }
   ],
   "source": [
    "import pandas as pd\n",
    "import matplotlib.pyplot as plt\n",
    "import Prepare_Data\n",
    "import pyarrow \n",
    "from Prepare_Data import load_and_filter_market_returns\n",
    "import data_run_files\n",
    "#autoreload download #pip install ipython\n",
    "%load_ext autoreload\n",
    "%autoreload 2\n",
    "\n",
    "#file_path_id_test=\"./data_test/top_5_percent_ids.csv\"\n",
    "# Sti til usa_dsf.parquet\n",
    "file_path_usa_dsf = \"./Data/usa_dsf.parquet\"\n",
    "file_path_usa = \"./Data/usa.parquet\"\n",
    "file_path_market_returns = \"./Data/market_returns.csv\"\n",
    "file_path_crsp_a_stock_with_id = \"./Data/crsp_a_stock_codes.csv\"\n",
    "file_path_cluster_labels = \"./Data/Cluster Labels.csv\"\n",
    "file_path_factor_details = \"./Data/Factor Details.xlsx\"\n",
    "file_path_tsla = \"./Data/tsla101.csv\""
   ]
  },
  {
   "cell_type": "code",
   "execution_count": 39,
   "id": "11ede8a8-1bf9-4143-b64f-a74b4dc0ac53",
   "metadata": {},
   "outputs": [],
   "source": [
    "#Input paths\n",
    "rente_path = \"Data/ff3_m.csv\""
   ]
  },
  {
   "cell_type": "code",
   "execution_count": 40,
   "id": "94d26018-e12e-41d6-b99b-f15cef8ae0ec",
   "metadata": {},
   "outputs": [],
   "source": [
    "#output paths: \n",
    "risk_free_test_path = \"./data_test/risk_free_thres_test.csv\"\n",
    "output_path_usa_dsf = \"./data_test/usa_dsf_thres_test.parquet\"\n",
    "output_path_usa = \"./data_test/usa_thres_test.parquet\"\n",
    "output_path_market_returns = \"data_test/market_returns_thres_test.csv\""
   ]
  },
  {
   "cell_type": "code",
   "execution_count": 41,
   "id": "bdd906cf-a6ee-4100-9e74-32a5fa123cd5",
   "metadata": {},
   "outputs": [],
   "source": [
    "#Dates\n",
    "start_date = pd.to_datetime('2004-12-31')\n",
    "end_date = pd.to_datetime('2023-11-30')\n",
    "#Threshold \n",
    "thres = 0.85 #(vi beholder de øverste 10%, hvis den er lig 0.9)"
   ]
  },
  {
   "cell_type": "markdown",
   "id": "dcf83d8b-591b-4ed8-ab7f-4758d866c586",
   "metadata": {
    "jp-MarkdownHeadingCollapsed": true
   },
   "source": [
    "# Top_thres_ids.csv (csv fil med unikke id'er)"
   ]
  },
  {
   "cell_type": "code",
   "execution_count": 16,
   "id": "f6196b1b-0edb-4d8e-8cd5-32b52a76b35e",
   "metadata": {},
   "outputs": [
    {
     "name": "stdout",
     "output_type": "stream",
     "text": [
      "Fil indlæst med succes.\n"
     ]
    }
   ],
   "source": [
    "df_usa = pd.read_parquet(file_path_usa, engine='pyarrow')\n",
    "print(\"Fil indlæst med succes.\")"
   ]
  },
  {
   "cell_type": "code",
   "execution_count": 17,
   "id": "f8238c72-42df-4248-a376-a7b35f2ba4ef",
   "metadata": {},
   "outputs": [],
   "source": [
    "# Filtrer kun USA og id <= 99999\n",
    "df_usa = df_usa[(df_usa[\"excntry\"] == \"USA\") & (df_usa[\"id\"] <= 99999)]"
   ]
  },
  {
   "cell_type": "code",
   "execution_count": 19,
   "id": "7e2a16dc-c813-417f-a47a-310b74a6d598",
   "metadata": {},
   "outputs": [
    {
     "name": "stdout",
     "output_type": "stream",
     "text": [
      "        eom_ret     id                  eom  valid_ret excntry          me  \\\n",
      "692  2007-01-31  10026  2006-12-31 00:00:00       True     USA  766.521028   \n",
      "693  2007-02-28  10026  2007-01-31 00:00:00       True     USA  765.372457   \n",
      "694  2007-03-31  10026  2007-02-28 00:00:00       True     USA  735.892265   \n",
      "695  2007-04-30  10026  2007-03-31 00:00:00       True     USA  733.131881   \n",
      "696  2007-09-30  10026  2007-08-31 00:00:00       True     USA  701.246236   \n",
      "\n",
      "      sic size_grp  ret_exc_lead1m    niq_su  ...     ni_be    ocf_at  \\\n",
      "692  2050    small       -0.007227  0.496813  ...  0.103420  0.154170   \n",
      "693  2050    small       -0.042354  2.854474  ...  0.104773  0.161278   \n",
      "694  2050    small       -0.007154  2.854474  ...  0.104773  0.161278   \n",
      "695  2050    small       -0.017516  2.854474  ...  0.104773  0.161278   \n",
      "696  2050    small       -0.073786  0.789103  ...  0.108646  0.169546   \n",
      "\n",
      "     ocf_at_chg1  mispricing_perf  mispricing_mgmt       qmj  qmj_prof  \\\n",
      "692    -0.014051         0.850597         0.535344  1.155532  1.298406   \n",
      "693    -0.010803         0.881284         0.521343  0.979869  1.318900   \n",
      "694    -0.010803         0.848347         0.521360  0.958434  1.309529   \n",
      "695    -0.010803         0.849812         0.519969  0.960954  1.310244   \n",
      "696     0.013170         0.774627         0.472872  1.166263  1.376579   \n",
      "\n",
      "     qmj_growth  qmj_safety  ctff_test  \n",
      "692   -0.732543    1.481551       True  \n",
      "693   -1.088789    1.458534       True  \n",
      "694   -1.091620    1.420703       True  \n",
      "695   -1.097567    1.434167       True  \n",
      "696   -0.697558    1.417087       True  \n",
      "\n",
      "[5 rows x 163 columns]\n",
      "Antal observationer efter filtrering: 471640\n",
      "2004-12-31 00:00:00\n"
     ]
    }
   ],
   "source": [
    "df_usa.loc[:, 'eom'] = pd.to_datetime(df_usa['eom'], errors='coerce')\n",
    "# Filtrer kun data fra og med 2010\n",
    "df_usa_filtered = df_usa[df_usa['eom'] >= start_date]\n",
    "\n",
    "# Bekræft ændringen\n",
    "print(df_usa_filtered.head())\n",
    "print(f\"Antal observationer efter filtrering: {len(df_usa_filtered)}\")\n",
    "\n",
    "# Valider at filtreringen virker\n",
    "print(df_usa_filtered['eom'].min())  # Skal vise en dato >= start_date"
   ]
  },
  {
   "cell_type": "code",
   "execution_count": 20,
   "id": "e5d980f2-7a7a-4972-92ba-400432334800",
   "metadata": {},
   "outputs": [
    {
     "name": "stdout",
     "output_type": "stream",
     "text": [
      "Grænseværdi for top 10% virksomheder: 6101.088460259999\n",
      "Antal unikke virksomheder i top 10%: 872\n"
     ]
    }
   ],
   "source": [
    "# Beregn median market equity for hver virksomhed\n",
    "company_median_equity = df_usa_filtered.groupby('id')['market_equity'].median()\n",
    "\n",
    "# Find 95. percentilen for virksomheders median market equity\n",
    "threshold = company_median_equity.quantile(thres)\n",
    "\n",
    "# Udvælg top 5% af virksomhederne (dem med median market equity >= threshold)\n",
    "top_thres_ids = company_median_equity[company_median_equity >= threshold].index\n",
    "\n",
    "# Filtrer df_usa_filtered, så det kun indeholder disse virksomheder\n",
    "df_thres_ids = df_usa_filtered[df_usa_filtered['id'].isin(top_thres_ids)]\n",
    "\n",
    "# Udskriv information\n",
    "print(f\"Grænseværdi for top 15% virksomheder: {threshold}\")\n",
    "print(f\"Antal unikke virksomheder i top 15%: {len(top_thres_ids)}\")"
   ]
  },
  {
   "cell_type": "code",
   "execution_count": 21,
   "id": "e77d2034-f5a5-4d13-83da-c7c9ba7c379c",
   "metadata": {},
   "outputs": [
    {
     "data": {
      "text/plain": [
       "Index([10078, 10104, 10107, 10108, 10138, 10145, 10147, 10225, 10299, 10324,\n",
       "       ...\n",
       "       93089, 93094, 93096, 93101, 93132, 93150, 93296, 93312, 93338, 93436],\n",
       "      dtype='int32', name='id', length=872)"
      ]
     },
     "execution_count": 21,
     "metadata": {},
     "output_type": "execute_result"
    }
   ],
   "source": [
    "top_thres_ids"
   ]
  },
  {
   "cell_type": "code",
   "execution_count": 22,
   "id": "b1dd772b-74e1-40aa-933e-f69ee4555b7e",
   "metadata": {},
   "outputs": [
    {
     "data": {
      "text/plain": [
       "Index([10078, 10104, 10107, 10108, 10138, 10145, 10147, 10225, 10299, 10324,\n",
       "       ...\n",
       "       93089, 93094, 93096, 93101, 93132, 93150, 93296, 93312, 93338, 93436],\n",
       "      dtype='int32', name='id', length=872)"
      ]
     },
     "execution_count": 22,
     "metadata": {},
     "output_type": "execute_result"
    }
   ],
   "source": [
    "top_thres_ids.unique()"
   ]
  },
  {
   "cell_type": "code",
   "execution_count": 28,
   "id": "94967d1f-d29a-4031-8363-7d896a244d1d",
   "metadata": {},
   "outputs": [
    {
     "name": "stdout",
     "output_type": "stream",
     "text": [
      "Antal unikke virksomheder med data på både første og sidste dato: 381\n"
     ]
    }
   ],
   "source": [
    "# Find første og sidste dato i dataset\n",
    "first_date = df_thres_ids['eom'].min()\n",
    "last_date = df_thres_ids['eom'].max()\n",
    "\n",
    "# Filtrer virksomheder, der har data på både første og sidste dato\n",
    "df_thres_ids = df_thres_ids.groupby('id').filter(\n",
    "    lambda x: (first_date in x['eom'].values) and (last_date in x['eom'].values)\n",
    ")\n",
    "# Udskriv antal unikke virksomheder efter filtrering\n",
    "print(f\"Antal unikke virksomheder med data på både første og sidste dato: {df_thres_ids['id'].nunique()}\")"
   ]
  },
  {
   "cell_type": "code",
   "execution_count": 30,
   "id": "33a67c9e-2251-470b-be7d-9c1eabb3ec76",
   "metadata": {},
   "outputs": [
    {
     "name": "stdout",
     "output_type": "stream",
     "text": [
      "Fil gemt som 'top_thres_percent_ids.csv'\n"
     ]
    }
   ],
   "source": [
    "df_ids = pd.DataFrame(df_thres_ids['id'].unique(), columns=['id'])\n",
    "# Gem til en CSV-fil uden index-kolonne\n",
    "df_ids.to_csv(\"./data_test/top_thres_percent_ids.csv\", index=False)\n",
    "\n",
    "print(\"Fil gemt som 'top_thres_percent_ids.csv'\")"
   ]
  },
  {
   "cell_type": "markdown",
   "id": "6d21ac9e-05f4-44bf-a7b4-89a650191a10",
   "metadata": {},
   "source": [
    "# De andre filer (med antal id's fra thres og start-end date)"
   ]
  },
  {
   "cell_type": "code",
   "execution_count": 42,
   "id": "b8fee8c5-88b6-4d6f-80b8-a5fbcdb3b093",
   "metadata": {},
   "outputs": [],
   "source": [
    "file_path_id_test = \"./data_test/top_thres_percent_ids.csv\""
   ]
  },
  {
   "cell_type": "code",
   "execution_count": 46,
   "id": "1a48dadb-043e-48ba-8a27-f4cae402c7ff",
   "metadata": {},
   "outputs": [
    {
     "name": "stdout",
     "output_type": "stream",
     "text": [
      "Filtrering udført. Antal rækker efter filtrering: 228\n",
      "Fil gemt som ./data_test/risk_free_thres_test.csv\n"
     ]
    },
    {
     "ename": "ArrowMemoryError",
     "evalue": "malloc of size 8388608 failed",
     "output_type": "error",
     "traceback": [
      "\u001b[1;31m---------------------------------------------------------------------------\u001b[0m",
      "\u001b[1;31mArrowMemoryError\u001b[0m                          Traceback (most recent call last)",
      "Cell \u001b[1;32mIn[46], line 3\u001b[0m\n\u001b[0;32m      1\u001b[0m risk_free \u001b[38;5;241m=\u001b[39m data_run_files\u001b[38;5;241m.\u001b[39mprocess_risk_free_rate(rente_path, start_date, end_date, output_path \u001b[38;5;241m=\u001b[39m risk_free_test_path)\n\u001b[0;32m      2\u001b[0m \u001b[38;5;66;03m# Filtrér ID'er for usa_dsf og usa\u001b[39;00m\n\u001b[1;32m----> 3\u001b[0m data_run_files\u001b[38;5;241m.\u001b[39mfilter_ids_from_dataset(file_path_usa_dsf, file_path_id_test, output_path_usa_dsf, start_date)\n\u001b[0;32m      4\u001b[0m data_run_files\u001b[38;5;241m.\u001b[39mfilter_ids_from_dataset(file_path_usa, file_path_id_test, output_path_usa, start_date)\n\u001b[0;32m      5\u001b[0m data_run_files\u001b[38;5;241m.\u001b[39mfilter_and_save_data(file_path_market_returns, start_date, end_date, output_path_market_returns)\n",
      "File \u001b[1;32m~\\PycharmProjects\\Master\\data_run_files.py:33\u001b[0m, in \u001b[0;36mfilter_ids_from_dataset\u001b[1;34m(file_path_input, file_path_id_test, output_path, start_date)\u001b[0m\n\u001b[0;32m      7\u001b[0m \u001b[38;5;250m\u001b[39m\u001b[38;5;124;03m\"\"\"\u001b[39;00m\n\u001b[0;32m      8\u001b[0m \u001b[38;5;124;03mIndlæser dataset fra en Parquet-fil, beholder kun ID'er fra en liste, filtrerer på startdato og gemmer resultatet.\u001b[39;00m\n\u001b[0;32m      9\u001b[0m \n\u001b[1;32m   (...)\u001b[0m\n\u001b[0;32m     29\u001b[0m \u001b[38;5;124;03m    filter_ids_from_dataset(file_path_usa, file_path_id_test, output_path, start_date)\u001b[39;00m\n\u001b[0;32m     30\u001b[0m \u001b[38;5;124;03m\"\"\"\u001b[39;00m\n\u001b[0;32m     32\u001b[0m \u001b[38;5;66;03m# Indlæs det oprindelige dataset\u001b[39;00m\n\u001b[1;32m---> 33\u001b[0m df \u001b[38;5;241m=\u001b[39m pd\u001b[38;5;241m.\u001b[39mread_parquet(file_path_input, engine\u001b[38;5;241m=\u001b[39m\u001b[38;5;124m'\u001b[39m\u001b[38;5;124mpyarrow\u001b[39m\u001b[38;5;124m'\u001b[39m)\n\u001b[0;32m     34\u001b[0m \u001b[38;5;28mprint\u001b[39m(\u001b[38;5;124mf\u001b[39m\u001b[38;5;124m\"\u001b[39m\u001b[38;5;124mFil \u001b[39m\u001b[38;5;132;01m{\u001b[39;00mfile_path_input\u001b[38;5;132;01m}\u001b[39;00m\u001b[38;5;124m indlæst med succes. Antal rækker før filtrering:\u001b[39m\u001b[38;5;124m\"\u001b[39m, \u001b[38;5;28mlen\u001b[39m(df))\n\u001b[0;32m     36\u001b[0m \u001b[38;5;66;03m# Indlæs ID'erne, der skal beholdes\u001b[39;00m\n",
      "File \u001b[1;32m~\\anaconda3\\envs\\fin_econ_2024\\Lib\\site-packages\\pandas\\io\\parquet.py:667\u001b[0m, in \u001b[0;36mread_parquet\u001b[1;34m(path, engine, columns, storage_options, use_nullable_dtypes, dtype_backend, filesystem, filters, **kwargs)\u001b[0m\n\u001b[0;32m    664\u001b[0m     use_nullable_dtypes \u001b[38;5;241m=\u001b[39m \u001b[38;5;28;01mFalse\u001b[39;00m\n\u001b[0;32m    665\u001b[0m check_dtype_backend(dtype_backend)\n\u001b[1;32m--> 667\u001b[0m \u001b[38;5;28;01mreturn\u001b[39;00m impl\u001b[38;5;241m.\u001b[39mread(\n\u001b[0;32m    668\u001b[0m     path,\n\u001b[0;32m    669\u001b[0m     columns\u001b[38;5;241m=\u001b[39mcolumns,\n\u001b[0;32m    670\u001b[0m     filters\u001b[38;5;241m=\u001b[39mfilters,\n\u001b[0;32m    671\u001b[0m     storage_options\u001b[38;5;241m=\u001b[39mstorage_options,\n\u001b[0;32m    672\u001b[0m     use_nullable_dtypes\u001b[38;5;241m=\u001b[39muse_nullable_dtypes,\n\u001b[0;32m    673\u001b[0m     dtype_backend\u001b[38;5;241m=\u001b[39mdtype_backend,\n\u001b[0;32m    674\u001b[0m     filesystem\u001b[38;5;241m=\u001b[39mfilesystem,\n\u001b[0;32m    675\u001b[0m     \u001b[38;5;241m*\u001b[39m\u001b[38;5;241m*\u001b[39mkwargs,\n\u001b[0;32m    676\u001b[0m )\n",
      "File \u001b[1;32m~\\anaconda3\\envs\\fin_econ_2024\\Lib\\site-packages\\pandas\\io\\parquet.py:274\u001b[0m, in \u001b[0;36mPyArrowImpl.read\u001b[1;34m(self, path, columns, filters, use_nullable_dtypes, dtype_backend, storage_options, filesystem, **kwargs)\u001b[0m\n\u001b[0;32m    267\u001b[0m path_or_handle, handles, filesystem \u001b[38;5;241m=\u001b[39m _get_path_or_handle(\n\u001b[0;32m    268\u001b[0m     path,\n\u001b[0;32m    269\u001b[0m     filesystem,\n\u001b[0;32m    270\u001b[0m     storage_options\u001b[38;5;241m=\u001b[39mstorage_options,\n\u001b[0;32m    271\u001b[0m     mode\u001b[38;5;241m=\u001b[39m\u001b[38;5;124m\"\u001b[39m\u001b[38;5;124mrb\u001b[39m\u001b[38;5;124m\"\u001b[39m,\n\u001b[0;32m    272\u001b[0m )\n\u001b[0;32m    273\u001b[0m \u001b[38;5;28;01mtry\u001b[39;00m:\n\u001b[1;32m--> 274\u001b[0m     pa_table \u001b[38;5;241m=\u001b[39m \u001b[38;5;28mself\u001b[39m\u001b[38;5;241m.\u001b[39mapi\u001b[38;5;241m.\u001b[39mparquet\u001b[38;5;241m.\u001b[39mread_table(\n\u001b[0;32m    275\u001b[0m         path_or_handle,\n\u001b[0;32m    276\u001b[0m         columns\u001b[38;5;241m=\u001b[39mcolumns,\n\u001b[0;32m    277\u001b[0m         filesystem\u001b[38;5;241m=\u001b[39mfilesystem,\n\u001b[0;32m    278\u001b[0m         filters\u001b[38;5;241m=\u001b[39mfilters,\n\u001b[0;32m    279\u001b[0m         \u001b[38;5;241m*\u001b[39m\u001b[38;5;241m*\u001b[39mkwargs,\n\u001b[0;32m    280\u001b[0m     )\n\u001b[0;32m    281\u001b[0m     result \u001b[38;5;241m=\u001b[39m pa_table\u001b[38;5;241m.\u001b[39mto_pandas(\u001b[38;5;241m*\u001b[39m\u001b[38;5;241m*\u001b[39mto_pandas_kwargs)\n\u001b[0;32m    283\u001b[0m     \u001b[38;5;28;01mif\u001b[39;00m manager \u001b[38;5;241m==\u001b[39m \u001b[38;5;124m\"\u001b[39m\u001b[38;5;124marray\u001b[39m\u001b[38;5;124m\"\u001b[39m:\n",
      "File \u001b[1;32m~\\anaconda3\\envs\\fin_econ_2024\\Lib\\site-packages\\pyarrow\\parquet\\core.py:1843\u001b[0m, in \u001b[0;36mread_table\u001b[1;34m(source, columns, use_threads, schema, use_pandas_metadata, read_dictionary, memory_map, buffer_size, partitioning, filesystem, filters, use_legacy_dataset, ignore_prefixes, pre_buffer, coerce_int96_timestamp_unit, decryption_properties, thrift_string_size_limit, thrift_container_size_limit, page_checksum_verification)\u001b[0m\n\u001b[0;32m   1831\u001b[0m     \u001b[38;5;66;03m# TODO test that source is not a directory or a list\u001b[39;00m\n\u001b[0;32m   1832\u001b[0m     dataset \u001b[38;5;241m=\u001b[39m ParquetFile(\n\u001b[0;32m   1833\u001b[0m         source, read_dictionary\u001b[38;5;241m=\u001b[39mread_dictionary,\n\u001b[0;32m   1834\u001b[0m         memory_map\u001b[38;5;241m=\u001b[39mmemory_map, buffer_size\u001b[38;5;241m=\u001b[39mbuffer_size,\n\u001b[1;32m   (...)\u001b[0m\n\u001b[0;32m   1840\u001b[0m         page_checksum_verification\u001b[38;5;241m=\u001b[39mpage_checksum_verification,\n\u001b[0;32m   1841\u001b[0m     )\n\u001b[1;32m-> 1843\u001b[0m \u001b[38;5;28;01mreturn\u001b[39;00m dataset\u001b[38;5;241m.\u001b[39mread(columns\u001b[38;5;241m=\u001b[39mcolumns, use_threads\u001b[38;5;241m=\u001b[39muse_threads,\n\u001b[0;32m   1844\u001b[0m                     use_pandas_metadata\u001b[38;5;241m=\u001b[39muse_pandas_metadata)\n",
      "File \u001b[1;32m~\\anaconda3\\envs\\fin_econ_2024\\Lib\\site-packages\\pyarrow\\parquet\\core.py:1485\u001b[0m, in \u001b[0;36mParquetDataset.read\u001b[1;34m(self, columns, use_threads, use_pandas_metadata)\u001b[0m\n\u001b[0;32m   1477\u001b[0m         index_columns \u001b[38;5;241m=\u001b[39m [\n\u001b[0;32m   1478\u001b[0m             col \u001b[38;5;28;01mfor\u001b[39;00m col \u001b[38;5;129;01min\u001b[39;00m _get_pandas_index_columns(metadata)\n\u001b[0;32m   1479\u001b[0m             \u001b[38;5;28;01mif\u001b[39;00m \u001b[38;5;129;01mnot\u001b[39;00m \u001b[38;5;28misinstance\u001b[39m(col, \u001b[38;5;28mdict\u001b[39m)\n\u001b[0;32m   1480\u001b[0m         ]\n\u001b[0;32m   1481\u001b[0m         columns \u001b[38;5;241m=\u001b[39m (\n\u001b[0;32m   1482\u001b[0m             \u001b[38;5;28mlist\u001b[39m(columns) \u001b[38;5;241m+\u001b[39m \u001b[38;5;28mlist\u001b[39m(\u001b[38;5;28mset\u001b[39m(index_columns) \u001b[38;5;241m-\u001b[39m \u001b[38;5;28mset\u001b[39m(columns))\n\u001b[0;32m   1483\u001b[0m         )\n\u001b[1;32m-> 1485\u001b[0m table \u001b[38;5;241m=\u001b[39m \u001b[38;5;28mself\u001b[39m\u001b[38;5;241m.\u001b[39m_dataset\u001b[38;5;241m.\u001b[39mto_table(\n\u001b[0;32m   1486\u001b[0m     columns\u001b[38;5;241m=\u001b[39mcolumns, \u001b[38;5;28mfilter\u001b[39m\u001b[38;5;241m=\u001b[39m\u001b[38;5;28mself\u001b[39m\u001b[38;5;241m.\u001b[39m_filter_expression,\n\u001b[0;32m   1487\u001b[0m     use_threads\u001b[38;5;241m=\u001b[39muse_threads\n\u001b[0;32m   1488\u001b[0m )\n\u001b[0;32m   1490\u001b[0m \u001b[38;5;66;03m# if use_pandas_metadata, restore the pandas metadata (which gets\u001b[39;00m\n\u001b[0;32m   1491\u001b[0m \u001b[38;5;66;03m# lost if doing a specific `columns` selection in to_table)\u001b[39;00m\n\u001b[0;32m   1492\u001b[0m \u001b[38;5;28;01mif\u001b[39;00m use_pandas_metadata:\n",
      "File \u001b[1;32m~\\anaconda3\\envs\\fin_econ_2024\\Lib\\site-packages\\pyarrow\\_dataset.pyx:574\u001b[0m, in \u001b[0;36mpyarrow._dataset.Dataset.to_table\u001b[1;34m()\u001b[0m\n",
      "File \u001b[1;32m~\\anaconda3\\envs\\fin_econ_2024\\Lib\\site-packages\\pyarrow\\_dataset.pyx:3865\u001b[0m, in \u001b[0;36mpyarrow._dataset.Scanner.to_table\u001b[1;34m()\u001b[0m\n",
      "File \u001b[1;32m~\\anaconda3\\envs\\fin_econ_2024\\Lib\\site-packages\\pyarrow\\error.pxi:155\u001b[0m, in \u001b[0;36mpyarrow.lib.pyarrow_internal_check_status\u001b[1;34m()\u001b[0m\n",
      "File \u001b[1;32m~\\anaconda3\\envs\\fin_econ_2024\\Lib\\site-packages\\pyarrow\\error.pxi:92\u001b[0m, in \u001b[0;36mpyarrow.lib.check_status\u001b[1;34m()\u001b[0m\n",
      "\u001b[1;31mArrowMemoryError\u001b[0m: malloc of size 8388608 failed"
     ]
    }
   ],
   "source": [
    "risk_free = data_run_files.process_risk_free_rate(rente_path, start_date, end_date, output_path = risk_free_test_path)\n",
    "# Filtrér ID'er for usa_dsf og usa\n",
    "data_run_files.filter_ids_from_dataset(file_path_usa_dsf, file_path_id_test, output_path_usa_dsf, start_date)\n",
    "data_run_files.filter_ids_from_dataset(file_path_usa, file_path_id_test, output_path_usa, start_date)\n",
    "data_run_files.filter_and_save_data(file_path_market_returns, start_date, end_date, output_path_market_returns)\n",
    "h_list = [1]  # Horisonter\n",
    "dataret = data_run_files.monthly_returns(risk_free, h_list, output_path_usa)"
   ]
  },
  {
   "cell_type": "code",
   "execution_count": null,
   "id": "4d17048d-13f2-41a5-b3e9-64c21e78d5d5",
   "metadata": {},
   "outputs": [],
   "source": []
  }
 ],
 "metadata": {
  "kernelspec": {
   "display_name": "Python 3 (ipykernel)",
   "language": "python",
   "name": "python3"
  },
  "language_info": {
   "codemirror_mode": {
    "name": "ipython",
    "version": 3
   },
   "file_extension": ".py",
   "mimetype": "text/x-python",
   "name": "python",
   "nbconvert_exporter": "python",
   "pygments_lexer": "ipython3",
   "version": "3.12.4"
  }
 },
 "nbformat": 4,
 "nbformat_minor": 5
}
