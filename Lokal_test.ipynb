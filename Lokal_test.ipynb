{
 "cells": [
  {
   "cell_type": "code",
   "execution_count": 1,
   "id": "18690dbb-f861-4899-b70d-ada55a051871",
   "metadata": {},
   "outputs": [],
   "source": [
    "import pandas as pd\n",
    "import matplotlib.pyplot as plt\n",
    "from General_Functions import long_horizon_ret\n",
    "from Main import settings, features, pf_set\n",
    "from pandas.tseries.offsets import MonthEnd\n",
    "from Prepare_Data import process_risk_free_rate, process_return_data, wealth_func, load_and_filter_market_returns_test\n",
    "import numpy as np"
   ]
  },
  {
   "cell_type": "code",
   "execution_count": 2,
   "id": "aed30502-7f51-4947-a871-efb3e80f1250",
   "metadata": {},
   "outputs": [],
   "source": [
    "def check_nan(df):\n",
    "    nan_count = df.isna().sum()  # Antal NaN per kolonne\n",
    "    nan_percentage = (nan_count / len(df)) * 100  # Procentandel af NaN per kolonne\n",
    "    \n",
    "    nan_df = pd.DataFrame({\n",
    "        'Missing Values': nan_count,\n",
    "        'Percentage (%)': nan_percentage\n",
    "    }).sort_values(by='Missing Values', ascending=False)\n",
    "    \n",
    "    print(f\"Total missing values in DataFrame: {df.isna().sum().sum()} ({df.isna().sum().sum() / df.size * 100:.2f}%)\")\n",
    "    \n",
    "    return nan_df"
   ]
  },
  {
   "cell_type": "markdown",
   "id": "182bca49-e035-40b8-9185-68da8bd1b7ed",
   "metadata": {
    "jp-MarkdownHeadingCollapsed": true
   },
   "source": [
    "## Initial plots of data"
   ]
  },
  {
   "cell_type": "markdown",
   "id": "2babfa10-ed72-4d25-8a10-d2d75cd511ed",
   "metadata": {},
   "source": [
    "### Quick preprosseing steps"
   ]
  },
  {
   "cell_type": "code",
   "execution_count": 3,
   "id": "204744e5-7a63-4070-bf43-03f24d8f2bbd",
   "metadata": {},
   "outputs": [],
   "source": [
    "data = pd.read_csv('data_test/monthly_preprocessed_test.csv') "
   ]
  },
  {
   "cell_type": "code",
   "execution_count": 4,
   "id": "996fd8e0-b4e4-4f33-9a75-98252fcb3c0b",
   "metadata": {},
   "outputs": [
    {
     "data": {
      "text/html": [
       "<div>\n",
       "<style scoped>\n",
       "    .dataframe tbody tr th:only-of-type {\n",
       "        vertical-align: middle;\n",
       "    }\n",
       "\n",
       "    .dataframe tbody tr th {\n",
       "        vertical-align: top;\n",
       "    }\n",
       "\n",
       "    .dataframe thead th {\n",
       "        text-align: right;\n",
       "    }\n",
       "</style>\n",
       "<table border=\"1\" class=\"dataframe\">\n",
       "  <thead>\n",
       "    <tr style=\"text-align: right;\">\n",
       "      <th></th>\n",
       "      <th>id</th>\n",
       "      <th>eom</th>\n",
       "      <th>eom_ret</th>\n",
       "      <th>ret_ld1</th>\n",
       "      <th>tr_ld1</th>\n",
       "      <th>horizon</th>\n",
       "      <th>ret_ld2</th>\n",
       "    </tr>\n",
       "  </thead>\n",
       "  <tbody>\n",
       "    <tr>\n",
       "      <th>0</th>\n",
       "      <td>10104</td>\n",
       "      <td>2010-01-31</td>\n",
       "      <td>2010-02-28</td>\n",
       "      <td>0.042934</td>\n",
       "      <td>0.042934</td>\n",
       "      <td>1</td>\n",
       "      <td>NaN</td>\n",
       "    </tr>\n",
       "    <tr>\n",
       "      <th>1</th>\n",
       "      <td>10104</td>\n",
       "      <td>2010-02-28</td>\n",
       "      <td>2010-03-31</td>\n",
       "      <td>0.007960</td>\n",
       "      <td>0.007960</td>\n",
       "      <td>1</td>\n",
       "      <td>NaN</td>\n",
       "    </tr>\n",
       "    <tr>\n",
       "      <th>2</th>\n",
       "      <td>10104</td>\n",
       "      <td>2010-03-31</td>\n",
       "      <td>2010-04-30</td>\n",
       "      <td>-0.127589</td>\n",
       "      <td>-0.127489</td>\n",
       "      <td>1</td>\n",
       "      <td>NaN</td>\n",
       "    </tr>\n",
       "    <tr>\n",
       "      <th>3</th>\n",
       "      <td>10104</td>\n",
       "      <td>2010-04-30</td>\n",
       "      <td>2010-05-31</td>\n",
       "      <td>-0.049307</td>\n",
       "      <td>-0.049207</td>\n",
       "      <td>1</td>\n",
       "      <td>NaN</td>\n",
       "    </tr>\n",
       "    <tr>\n",
       "      <th>4</th>\n",
       "      <td>10104</td>\n",
       "      <td>2010-05-31</td>\n",
       "      <td>2010-06-30</td>\n",
       "      <td>0.103772</td>\n",
       "      <td>0.103872</td>\n",
       "      <td>1</td>\n",
       "      <td>NaN</td>\n",
       "    </tr>\n",
       "  </tbody>\n",
       "</table>\n",
       "</div>"
      ],
      "text/plain": [
       "      id         eom     eom_ret   ret_ld1    tr_ld1  horizon  ret_ld2\n",
       "0  10104  2010-01-31  2010-02-28  0.042934  0.042934        1      NaN\n",
       "1  10104  2010-02-28  2010-03-31  0.007960  0.007960        1      NaN\n",
       "2  10104  2010-03-31  2010-04-30 -0.127589 -0.127489        1      NaN\n",
       "3  10104  2010-04-30  2010-05-31 -0.049307 -0.049207        1      NaN\n",
       "4  10104  2010-05-31  2010-06-30  0.103772  0.103872        1      NaN"
      ]
     },
     "execution_count": 4,
     "metadata": {},
     "output_type": "execute_result"
    }
   ],
   "source": [
    "data.head()"
   ]
  },
  {
   "cell_type": "code",
   "execution_count": 5,
   "id": "e01b0e8a-11ad-4f47-a176-92791f801586",
   "metadata": {},
   "outputs": [
    {
     "data": {
      "text/html": [
       "<div>\n",
       "<style scoped>\n",
       "    .dataframe tbody tr th:only-of-type {\n",
       "        vertical-align: middle;\n",
       "    }\n",
       "\n",
       "    .dataframe tbody tr th {\n",
       "        vertical-align: top;\n",
       "    }\n",
       "\n",
       "    .dataframe thead th {\n",
       "        text-align: right;\n",
       "    }\n",
       "</style>\n",
       "<table border=\"1\" class=\"dataframe\">\n",
       "  <thead>\n",
       "    <tr style=\"text-align: right;\">\n",
       "      <th></th>\n",
       "      <th>id</th>\n",
       "      <th>eom</th>\n",
       "      <th>eom_ret</th>\n",
       "      <th>ret_ld1</th>\n",
       "      <th>tr_ld1</th>\n",
       "      <th>horizon</th>\n",
       "      <th>ret_ld2</th>\n",
       "    </tr>\n",
       "  </thead>\n",
       "  <tbody>\n",
       "    <tr>\n",
       "      <th>57443</th>\n",
       "      <td>92655</td>\n",
       "      <td>2023-07-31</td>\n",
       "      <td>2023-08-31</td>\n",
       "      <td>NaN</td>\n",
       "      <td>0.062004</td>\n",
       "      <td>2</td>\n",
       "      <td>0.057504</td>\n",
       "    </tr>\n",
       "    <tr>\n",
       "      <th>57444</th>\n",
       "      <td>92655</td>\n",
       "      <td>2023-08-31</td>\n",
       "      <td>2023-09-30</td>\n",
       "      <td>NaN</td>\n",
       "      <td>0.032584</td>\n",
       "      <td>2</td>\n",
       "      <td>0.028084</td>\n",
       "    </tr>\n",
       "    <tr>\n",
       "      <th>57445</th>\n",
       "      <td>92655</td>\n",
       "      <td>2023-09-30</td>\n",
       "      <td>2023-10-31</td>\n",
       "      <td>NaN</td>\n",
       "      <td>-0.044489</td>\n",
       "      <td>2</td>\n",
       "      <td>-0.048789</td>\n",
       "    </tr>\n",
       "    <tr>\n",
       "      <th>57446</th>\n",
       "      <td>92655</td>\n",
       "      <td>2023-10-31</td>\n",
       "      <td>2023-11-30</td>\n",
       "      <td>NaN</td>\n",
       "      <td>0.004700</td>\n",
       "      <td>2</td>\n",
       "      <td>0.000000</td>\n",
       "    </tr>\n",
       "    <tr>\n",
       "      <th>57447</th>\n",
       "      <td>92655</td>\n",
       "      <td>2023-11-30</td>\n",
       "      <td>2023-12-31</td>\n",
       "      <td>NaN</td>\n",
       "      <td>0.004400</td>\n",
       "      <td>2</td>\n",
       "      <td>0.000000</td>\n",
       "    </tr>\n",
       "  </tbody>\n",
       "</table>\n",
       "</div>"
      ],
      "text/plain": [
       "          id         eom     eom_ret  ret_ld1    tr_ld1  horizon   ret_ld2\n",
       "57443  92655  2023-07-31  2023-08-31      NaN  0.062004        2  0.057504\n",
       "57444  92655  2023-08-31  2023-09-30      NaN  0.032584        2  0.028084\n",
       "57445  92655  2023-09-30  2023-10-31      NaN -0.044489        2 -0.048789\n",
       "57446  92655  2023-10-31  2023-11-30      NaN  0.004700        2  0.000000\n",
       "57447  92655  2023-11-30  2023-12-31      NaN  0.004400        2  0.000000"
      ]
     },
     "execution_count": 5,
     "metadata": {},
     "output_type": "execute_result"
    }
   ],
   "source": [
    "data.tail()"
   ]
  },
  {
   "cell_type": "code",
   "execution_count": 6,
   "id": "05cd85af-3fff-4710-866d-b032ca05770f",
   "metadata": {},
   "outputs": [
    {
     "ename": "NameError",
     "evalue": "name 'data_filtered' is not defined",
     "output_type": "error",
     "traceback": [
      "\u001b[1;31m---------------------------------------------------------------------------\u001b[0m",
      "\u001b[1;31mNameError\u001b[0m                                 Traceback (most recent call last)",
      "Cell \u001b[1;32mIn[6], line 1\u001b[0m\n\u001b[1;32m----> 1\u001b[0m \u001b[38;5;28mprint\u001b[39m(data_filtered\u001b[38;5;241m.\u001b[39mdtypes)\n",
      "\u001b[1;31mNameError\u001b[0m: name 'data_filtered' is not defined"
     ]
    }
   ],
   "source": [
    "print(data_filtered.dtypes)"
   ]
  },
  {
   "cell_type": "code",
   "execution_count": null,
   "id": "b554ca83-5791-4776-970d-affad1f125fe",
   "metadata": {},
   "outputs": [],
   "source": [
    "# Konverter 'eom_ret' til datetime\n",
    "data[\"eom_ret\"] = pd.to_datetime(data[\"eom_ret\"])\n",
    "\n",
    "# Filtrer data for horizon == 1\n",
    "filtered_data = data[data[\"horizon\"] == 1]"
   ]
  },
  {
   "cell_type": "code",
   "execution_count": null,
   "id": "59d27ba2-1b8e-4613-963d-625b8367ff4f",
   "metadata": {},
   "outputs": [],
   "source": [
    "# Vælg de første 5 unikke id'er\n",
    "unique_ids = filtered_data[\"id\"].unique()[:5]\n",
    "\n",
    "# Initialiser plot\n",
    "plt.figure(figsize=(12, 6))\n",
    "\n",
    "# Beregn og plot akkumulerede afkast for hver id\n",
    "for uid in unique_ids:\n",
    "    subset = filtered_data[filtered_data[\"id\"] == uid].sort_values(\"eom_ret\")\n",
    "    subset[\"cum_ret\"] = (1 + subset[\"ret_ld1\"]).cumprod() - 1  # Akkumuleret afkast\n",
    "    plt.plot(subset[\"eom_ret\"], subset[\"cum_ret\"], label=f\"ID {uid}\")\n",
    "\n",
    "# Tilpas plot\n",
    "plt.xlabel(\"Dato\")\n",
    "plt.ylabel(\"Akkumuleret Afkast\")\n",
    "plt.title(\"Akkumuleret Afkast for de første 5 unikke ID'er\")\n",
    "plt.legend()\n",
    "plt.grid()\n",
    "\n",
    "# Vis plot\n",
    "plt.show()"
   ]
  },
  {
   "cell_type": "markdown",
   "id": "79f27f8c-1a7b-4e06-bdb6-4b1301b764a7",
   "metadata": {
    "jp-MarkdownHeadingCollapsed": true
   },
   "source": [
    "## Plots of every stock"
   ]
  },
  {
   "cell_type": "code",
   "execution_count": null,
   "id": "d5fdc99e-ce19-41ad-a0cb-6e7f8e443134",
   "metadata": {},
   "outputs": [],
   "source": [
    "# Filtrer data for horizon == 1\n",
    "filtered_data = data[data[\"horizon\"] == 1]\n",
    "\n",
    "# Initialiser plot\n",
    "plt.figure(figsize=(14, 7))\n",
    "\n",
    "# Loop gennem hver unik id og plot akkumuleret afkast\n",
    "for uid in filtered_data[\"id\"].unique():\n",
    "    subset = filtered_data[filtered_data[\"id\"] == uid].sort_values(\"eom\")\n",
    "    subset[\"cum_ret\"] = (1 + subset[\"ret_ld1\"]).cumprod() - 1  # Akkumuleret afkast\n",
    "    plt.plot(subset[\"eom\"], subset[\"cum_ret\"], alpha=0.6)  # Tilføj gennemsigtighed for synlighed\n",
    "\n",
    "# Tilpas plot\n",
    "plt.xlabel(\"Dato\")\n",
    "plt.ylabel(\"Akkumuleret Afkast\")\n",
    "plt.title(\"Akkumuleret Afkast for alle ID'er\")\n",
    "plt.grid()\n",
    "plt.show()\n"
   ]
  },
  {
   "cell_type": "markdown",
   "id": "f7098765-cbba-4890-88cb-7a2ec4a6fd89",
   "metadata": {},
   "source": [
    "### Adding tickers"
   ]
  },
  {
   "cell_type": "markdown",
   "id": "937f7313-74ca-4e82-956b-5eb98c36e7bd",
   "metadata": {},
   "source": [
    "#### Plotting with tickers and names:"
   ]
  },
  {
   "cell_type": "code",
   "execution_count": 7,
   "id": "4c62cabb-c6fa-4f3c-b529-6968826fe107",
   "metadata": {},
   "outputs": [
    {
     "ename": "NameError",
     "evalue": "name 'filtered_data' is not defined",
     "output_type": "error",
     "traceback": [
      "\u001b[1;31m---------------------------------------------------------------------------\u001b[0m",
      "\u001b[1;31mNameError\u001b[0m                                 Traceback (most recent call last)",
      "Cell \u001b[1;32mIn[7], line 6\u001b[0m\n\u001b[0;32m      3\u001b[0m ticker_dict \u001b[38;5;241m=\u001b[39m \u001b[38;5;28mdict\u001b[39m(\u001b[38;5;28mzip\u001b[39m(ticker_map[\u001b[38;5;124m\"\u001b[39m\u001b[38;5;124mPERMNO\u001b[39m\u001b[38;5;124m\"\u001b[39m], ticker_map[\u001b[38;5;124m\"\u001b[39m\u001b[38;5;124mTICKER\u001b[39m\u001b[38;5;124m\"\u001b[39m]))  \u001b[38;5;66;03m# Omdan til dictionary\u001b[39;00m\n\u001b[0;32m      5\u001b[0m \u001b[38;5;66;03m# Vælg de første 5 unikke id'er\u001b[39;00m\n\u001b[1;32m----> 6\u001b[0m unique_ids \u001b[38;5;241m=\u001b[39m filtered_data[\u001b[38;5;124m\"\u001b[39m\u001b[38;5;124mid\u001b[39m\u001b[38;5;124m\"\u001b[39m]\u001b[38;5;241m.\u001b[39munique()[:\u001b[38;5;241m5\u001b[39m]\n\u001b[0;32m      8\u001b[0m \u001b[38;5;66;03m# Initialiser plot\u001b[39;00m\n\u001b[0;32m      9\u001b[0m plt\u001b[38;5;241m.\u001b[39mfigure(figsize\u001b[38;5;241m=\u001b[39m(\u001b[38;5;241m12\u001b[39m, \u001b[38;5;241m6\u001b[39m))\n",
      "\u001b[1;31mNameError\u001b[0m: name 'filtered_data' is not defined"
     ]
    }
   ],
   "source": [
    "# Indlæs ID til Ticker mapping\n",
    "ticker_map = pd.read_csv(\"Data/ticker_and_id.csv\")  # Indlæs filen\n",
    "ticker_dict = dict(zip(ticker_map[\"PERMNO\"], ticker_map[\"TICKER\"]))  # Omdan til dictionary\n",
    "\n",
    "# Vælg de første 5 unikke id'er\n",
    "unique_ids = filtered_data[\"id\"].unique()[:5]\n",
    "\n",
    "# Initialiser plot\n",
    "plt.figure(figsize=(12, 6))\n",
    "\n",
    "# Beregn og plot akkumulerede afkast for hver id\n",
    "for uid in unique_ids:\n",
    "    subset = filtered_data[filtered_data[\"id\"] == uid].sort_values(\"eom_ret\")\n",
    "    subset[\"cum_ret\"] = (1 + subset[\"ret_ld1\"]).cumprod() - 1  # Akkumuleret afkast\n",
    "    \n",
    "    # Hent ticker fra mapping (brug ID hvis ingen match)\n",
    "    ticker_label = ticker_dict.get(uid, f\"ID {uid}\")\n",
    "    \n",
    "    # Plot\n",
    "    plt.plot(subset[\"eom_ret\"], subset[\"cum_ret\"], label=ticker_label)\n",
    "\n",
    "# Tilpas plot\n",
    "plt.xlabel(\"Dato\")\n",
    "plt.ylabel(\"Akkumuleret Afkast\")\n",
    "plt.title(\"Akkumuleret Afkast for de første 5 unikke Tickere\")\n",
    "plt.legend()\n",
    "plt.grid()\n",
    "\n",
    "# Vis plot\n",
    "plt.show()"
   ]
  },
  {
   "cell_type": "code",
   "execution_count": 8,
   "id": "8b1909b2-f305-4c79-a568-3230b2c7a8a1",
   "metadata": {},
   "outputs": [
    {
     "ename": "NameError",
     "evalue": "name 'filtered_data' is not defined",
     "output_type": "error",
     "traceback": [
      "\u001b[1;31m---------------------------------------------------------------------------\u001b[0m",
      "\u001b[1;31mNameError\u001b[0m                                 Traceback (most recent call last)",
      "Cell \u001b[1;32mIn[8], line 6\u001b[0m\n\u001b[0;32m      3\u001b[0m ticker_dict \u001b[38;5;241m=\u001b[39m \u001b[38;5;28mdict\u001b[39m(\u001b[38;5;28mzip\u001b[39m(ticker_map[\u001b[38;5;124m\"\u001b[39m\u001b[38;5;124mPERMNO\u001b[39m\u001b[38;5;124m\"\u001b[39m], ticker_map[\u001b[38;5;124m\"\u001b[39m\u001b[38;5;124mCOMNAM\u001b[39m\u001b[38;5;124m\"\u001b[39m]))  \u001b[38;5;66;03m# Omdan til dictionary\u001b[39;00m\n\u001b[0;32m      5\u001b[0m \u001b[38;5;66;03m# Vælg de første 5 unikke id'er\u001b[39;00m\n\u001b[1;32m----> 6\u001b[0m unique_ids \u001b[38;5;241m=\u001b[39m filtered_data[\u001b[38;5;124m\"\u001b[39m\u001b[38;5;124mid\u001b[39m\u001b[38;5;124m\"\u001b[39m]\u001b[38;5;241m.\u001b[39munique()[:\u001b[38;5;241m5\u001b[39m]\n\u001b[0;32m      8\u001b[0m \u001b[38;5;66;03m# Initialiser plot\u001b[39;00m\n\u001b[0;32m      9\u001b[0m plt\u001b[38;5;241m.\u001b[39mfigure(figsize\u001b[38;5;241m=\u001b[39m(\u001b[38;5;241m12\u001b[39m, \u001b[38;5;241m6\u001b[39m))\n",
      "\u001b[1;31mNameError\u001b[0m: name 'filtered_data' is not defined"
     ]
    }
   ],
   "source": [
    "# Indlæs ID til Ticker mapping\n",
    "ticker_map = pd.read_csv(\"Data/ticker_and_id.csv\")  # Indlæs filen\n",
    "ticker_dict = dict(zip(ticker_map[\"PERMNO\"], ticker_map[\"COMNAM\"]))  # Omdan til dictionary\n",
    "\n",
    "# Vælg de første 5 unikke id'er\n",
    "unique_ids = filtered_data[\"id\"].unique()[:5]\n",
    "\n",
    "# Initialiser plot\n",
    "plt.figure(figsize=(12, 6))\n",
    "\n",
    "# Beregn og plot akkumulerede afkast for hver id\n",
    "for uid in unique_ids:\n",
    "    subset = filtered_data[filtered_data[\"id\"] == uid].sort_values(\"eom_ret\")\n",
    "    subset[\"cum_ret\"] = (1 + subset[\"ret_ld1\"]).cumprod() - 1  # Akkumuleret afkast\n",
    "    \n",
    "    # Hent ticker fra mapping (brug ID hvis ingen match)\n",
    "    ticker_label = ticker_dict.get(uid, f\"ID {uid}\")\n",
    "    \n",
    "    # Plot\n",
    "    plt.plot(subset[\"eom_ret\"], subset[\"cum_ret\"], label=ticker_label)\n",
    "\n",
    "# Tilpas plot\n",
    "plt.xlabel(\"Dato\")\n",
    "plt.ylabel(\"Akkumuleret Afkast\")\n",
    "plt.title(\"Akkumuleret Afkast for de første 5 unikke Tickere\")\n",
    "plt.legend()\n",
    "plt.grid()\n",
    "\n",
    "# Vis plot\n",
    "plt.show()"
   ]
  },
  {
   "cell_type": "markdown",
   "id": "bf59c16d-0680-46dc-bd73-14da96698257",
   "metadata": {},
   "source": [
    "## load and prepare data"
   ]
  },
  {
   "cell_type": "code",
   "execution_count": 13,
   "id": "83da3786-d373-4039-b6ff-3b7164902582",
   "metadata": {},
   "outputs": [
    {
     "name": "stdout",
     "output_type": "stream",
     "text": [
      "(28713, 166)\n"
     ]
    }
   ],
   "source": [
    "file_path_usa_test = \"./data_test/usa_test.parquet\"  #This is with rvol_252d\n",
    "#file_path_usa = \"./Data/usa.parquet\"  #This is with rvol_252d\n",
    "data = pd.read_parquet(file_path_usa_test, engine=\"pyarrow\")\n",
    "#data2 = pd.read_parquet(file_path_usa, engine=\"pyarrow\")\n",
    "print(data.shape)\n",
    "#print(data2.shape)"
   ]
  },
  {
   "cell_type": "code",
   "execution_count": 27,
   "id": "3d9f15b5-b97f-4bc7-82eb-82b36460c7a0",
   "metadata": {},
   "outputs": [
    {
     "name": "stdout",
     "output_type": "stream",
     "text": [
      "Features list length: 115\n"
     ]
    }
   ],
   "source": [
    "print(f\"Features list length: {len(features)}\")\n"
   ]
  },
  {
   "cell_type": "code",
   "execution_count": 16,
   "id": "dd46fb08-7d24-49fe-a484-4495f5ae1c61",
   "metadata": {},
   "outputs": [
    {
     "data": {
      "text/plain": [
       "['age',\n",
       " 'aliq_at',\n",
       " 'aliq_mat',\n",
       " 'ami_126d',\n",
       " 'at_be',\n",
       " 'at_gr1',\n",
       " 'at_me',\n",
       " 'at_turnover',\n",
       " 'be_gr1a',\n",
       " 'be_me',\n",
       " 'beta_60m',\n",
       " 'beta_dimson_21d',\n",
       " 'betabab_1260d',\n",
       " 'betadown_252d',\n",
       " 'bev_mev',\n",
       " 'bidaskhl_21d',\n",
       " 'capx_gr1',\n",
       " 'cash_at',\n",
       " 'chcsho_12m',\n",
       " 'coa_gr1a',\n",
       " 'col_gr1a',\n",
       " 'cop_at',\n",
       " 'cop_atl1',\n",
       " 'corr_1260d',\n",
       " 'coskew_21d',\n",
       " 'cowc_gr1a',\n",
       " 'dbnetis_at',\n",
       " 'debt_me',\n",
       " 'div12m_me',\n",
       " 'dolvol_126d',\n",
       " 'dolvol_var_126d',\n",
       " 'ebit_bev',\n",
       " 'ebit_sale',\n",
       " 'ebitda_mev',\n",
       " 'emp_gr1',\n",
       " 'eq_dur',\n",
       " 'eqnpo_12m',\n",
       " 'fcf_me',\n",
       " 'fnl_gr1a',\n",
       " 'gp_at',\n",
       " 'gp_atl1',\n",
       " 'ival_me',\n",
       " 'inv_gr1',\n",
       " 'inv_gr1a',\n",
       " 'iskew_capm_21d',\n",
       " 'iskew_ff3_21d',\n",
       " 'ivol_capm_21d',\n",
       " 'ivol_capm_252d',\n",
       " 'ivol_ff3_21d',\n",
       " 'kz_index',\n",
       " 'lnoa_gr1a',\n",
       " 'lti_gr1a',\n",
       " 'market_equity',\n",
       " 'mispricing_mgmt',\n",
       " 'mispricing_perf',\n",
       " 'ncoa_gr1a',\n",
       " 'ncol_gr1a',\n",
       " 'netdebt_me',\n",
       " 'nfna_gr1a',\n",
       " 'ni_be',\n",
       " 'ni_me',\n",
       " 'nncoa_gr1a',\n",
       " 'noa_at',\n",
       " 'noa_gr1a',\n",
       " 'o_score',\n",
       " 'oaccruals_at',\n",
       " 'oaccruals_ni',\n",
       " 'ocf_at',\n",
       " 'ocf_at_chg1',\n",
       " 'ocf_me',\n",
       " 'op_at',\n",
       " 'op_atl1',\n",
       " 'ope_be',\n",
       " 'ope_bel1',\n",
       " 'opex_at',\n",
       " 'pi_nix',\n",
       " 'ppeinv_gr1a',\n",
       " 'prc',\n",
       " 'prc_highprc_252d',\n",
       " 'qmj_prof',\n",
       " 'qmj_safety',\n",
       " 'ret_1_0',\n",
       " 'ret_12_1',\n",
       " 'ret_12_7',\n",
       " 'ret_3_1',\n",
       " 'ret_6_1',\n",
       " 'ret_60_12',\n",
       " 'ret_9_1',\n",
       " 'rmax1_21d',\n",
       " 'rmax5_21d',\n",
       " 'rmax5_rvol_21d',\n",
       " 'rskew_21d',\n",
       " 'rvol_21d',\n",
       " 'sale_bev',\n",
       " 'sale_emp_gr1',\n",
       " 'sale_gr1',\n",
       " 'sale_me',\n",
       " 'seas_1_1an',\n",
       " 'seas_1_1na',\n",
       " 'seas_11_15an',\n",
       " 'seas_11_15na',\n",
       " 'seas_2_5an',\n",
       " 'seas_2_5na',\n",
       " 'seas_6_10an',\n",
       " 'seas_6_10na',\n",
       " 'taccruals_at',\n",
       " 'taccruals_ni',\n",
       " 'tangibility',\n",
       " 'tax_gr1a',\n",
       " 'turnover_126d',\n",
       " 'turnover_var_126d',\n",
       " 'zero_trades_126d',\n",
       " 'zero_trades_21d',\n",
       " 'zero_trades_252d',\n",
       " 'rvol_252d']"
      ]
     },
     "execution_count": 16,
     "metadata": {},
     "output_type": "execute_result"
    }
   ],
   "source": [
    "features"
   ]
  },
  {
   "cell_type": "code",
   "execution_count": null,
   "id": "cc6db559-613d-435f-b121-4db2999c7679",
   "metadata": {},
   "outputs": [],
   "source": []
  },
  {
   "cell_type": "code",
   "execution_count": 28,
   "id": "2db9d9e6-fac1-4fef-929d-8995b6d70d2a",
   "metadata": {},
   "outputs": [
    {
     "name": "stdout",
     "output_type": "stream",
     "text": [
      "['id', 'eom', 'sic', 'size_grp', 'me', 'rvol_252d', 'dolvol_126d', 'age', 'aliq_at', 'aliq_mat', 'ami_126d', 'at_be', 'at_gr1', 'at_me', 'at_turnover', 'be_gr1a', 'be_me', 'beta_60m', 'beta_dimson_21d', 'betabab_1260d', 'betadown_252d', 'bev_mev', 'bidaskhl_21d', 'capx_gr1', 'cash_at', 'chcsho_12m', 'coa_gr1a', 'col_gr1a', 'cop_at', 'cop_atl1', 'corr_1260d', 'coskew_21d', 'cowc_gr1a', 'dbnetis_at', 'debt_me', 'div12m_me', 'dolvol_126d', 'dolvol_var_126d', 'ebit_bev', 'ebit_sale', 'ebitda_mev', 'emp_gr1', 'eq_dur', 'eqnpo_12m', 'fcf_me', 'fnl_gr1a', 'gp_at', 'gp_atl1', 'ival_me', 'inv_gr1', 'inv_gr1a', 'iskew_capm_21d', 'iskew_ff3_21d', 'ivol_capm_21d', 'ivol_capm_252d', 'ivol_ff3_21d', 'kz_index', 'lnoa_gr1a', 'lti_gr1a', 'market_equity', 'mispricing_mgmt', 'mispricing_perf', 'ncoa_gr1a', 'ncol_gr1a', 'netdebt_me', 'nfna_gr1a', 'ni_be', 'ni_me', 'nncoa_gr1a', 'noa_at', 'noa_gr1a', 'o_score', 'oaccruals_at', 'oaccruals_ni', 'ocf_at', 'ocf_at_chg1', 'ocf_me', 'op_at', 'op_atl1', 'ope_be', 'ope_bel1', 'opex_at', 'pi_nix', 'ppeinv_gr1a', 'prc', 'prc_highprc_252d', 'qmj_prof', 'qmj_safety', 'ret_1_0', 'ret_12_1', 'ret_12_7', 'ret_3_1', 'ret_6_1', 'ret_60_12', 'ret_9_1', 'rmax1_21d', 'rmax5_21d', 'rmax5_rvol_21d', 'rskew_21d', 'rvol_21d', 'sale_bev', 'sale_emp_gr1', 'sale_gr1', 'sale_me', 'seas_1_1an', 'seas_1_1na', 'seas_11_15an', 'seas_11_15na', 'seas_2_5an', 'seas_2_5na', 'seas_6_10an', 'seas_6_10na', 'taccruals_at', 'taccruals_ni', 'tangibility', 'tax_gr1a', 'turnover_126d', 'turnover_var_126d', 'zero_trades_126d', 'zero_trades_21d', 'zero_trades_252d', 'rvol_252d']\n",
      "desired_cols list length: 122\n"
     ]
    }
   ],
   "source": [
    "file_path_usa_test = \"./data_test/usa_test.parquet\"  #This is with rvol_252d\n",
    "# Liste over kolonner, vi gerne vil have\n",
    "# Vi har fjernet \"ff49\" og \"crsp_exchcd\", for vi har dem ikke i vores data\n",
    "desired_cols = [\"id\", \"eom\", \"sic\", \"size_grp\", \"me\", \"rvol_252d\", \"dolvol_126d\"] + features #I R får vi 166 features i vores datasæt, tror det\n",
    "\n",
    "print(desired_cols)\n",
    "print(f\"desired_cols list length: {len(desired_cols)}\")\n",
    "#går galt her\n",
    "\n",
    "# Tjek hvilke kolonner der faktisk findes i Parquet-filen\n",
    "actual_cols = pd.read_parquet(file_path_usa_test, engine=\"pyarrow\").columns\n",
    "cols_to_load = [col for col in desired_cols if col in actual_cols]\n",
    "\n",
    "if not cols_to_load:\n",
    "    raise ValueError(\"Ingen af de ønskede kolonner findes i Parquet-filen.\")\n",
    "\n",
    "# Indlæs kun de kolonner, der faktisk findes\n",
    "chars = pd.read_parquet(file_path_usa_test, engine=\"pyarrow\", columns=desired_cols)\n",
    "# Filtrér observationer\n",
    "chars = chars[chars[\"id\"] <= 99999]\n",
    "\n",
    "# Konverter datoformat for 'eom'\n",
    "chars[\"eom\"] = pd.to_datetime(chars[\"eom\"], errors=\"coerce\")"
   ]
  },
  {
   "cell_type": "code",
   "execution_count": 12,
   "id": "e22582cb-f282-499f-9b2b-e1f6544a9859",
   "metadata": {},
   "outputs": [
    {
     "name": "stdout",
     "output_type": "stream",
     "text": [
      "(28713, 122)\n"
     ]
    }
   ],
   "source": [
    "print(chars.shape)"
   ]
  },
  {
   "cell_type": "code",
   "execution_count": 29,
   "id": "0fbfd63f-a1ff-42c1-90c5-b37ec3c0d418",
   "metadata": {},
   "outputs": [
    {
     "name": "stdout",
     "output_type": "stream",
     "text": [
      "Beregner 'dolvol', 'lambda' og 'rvol_m'...\n",
      "          id        eom   sic size_grp            me  rvol_252d   dolvol_126d  \\\n",
      "0      10104 2010-01-31  7372     mega  115558.73052   0.019544  6.798938e+08   \n",
      "1      10104 2010-02-28  7372     mega  123619.74809   0.018949  7.094750e+08   \n",
      "2      10104 2010-03-31  7372     mega  129040.82501   0.015241  6.982804e+08   \n",
      "3      10104 2010-04-30  7372     mega  130101.18774   0.014489  6.802223e+08   \n",
      "4      10104 2010-05-31  7372     mega  113436.81847   0.015136  7.368972e+08   \n",
      "...      ...        ...   ...      ...           ...        ...           ...   \n",
      "28708  92655 2023-07-31  6324     mega  471446.66929   0.014563  1.732788e+09   \n",
      "28709  92655 2023-08-31  6324     mega  441458.42446   0.014580  1.619178e+09   \n",
      "28710  92655 2023-09-30  6324     mega  467033.72021   0.014428  1.619647e+09   \n",
      "28711  92655 2023-10-31  6324     mega  496091.90354   0.014193  1.578173e+09   \n",
      "28712  92655 2023-11-30  6324     mega  511455.75015   0.013393  1.621881e+09   \n",
      "\n",
      "       age   aliq_at  aliq_mat  ...  tangibility  tax_gr1a  turnover_126d  \\\n",
      "0      301  0.526422  0.232151  ...     0.384579 -0.000151       0.006062   \n",
      "1      302  0.526422  0.249602  ...     0.384579 -0.000151       0.006243   \n",
      "2      303  0.570962  0.230516  ...     0.384579  0.000186       0.005967   \n",
      "3      304  0.570962  0.218079  ...     0.384579  0.000186       0.005590   \n",
      "4      305  0.570962  0.215020  ...     0.384579  0.000186       0.006023   \n",
      "...    ...       ...       ...  ...          ...       ...            ...   \n",
      "28708  487  0.536309  0.181335  ...     0.247139  0.004618       0.003850   \n",
      "28709  488  0.536309  0.187952  ...     0.247139  0.004618       0.003587   \n",
      "28710  489  0.536309  0.192017  ...     0.247139  0.004618       0.003568   \n",
      "28711  490  0.501638  0.171298  ...     0.247139  0.004090       0.003454   \n",
      "28712  491  0.501638  0.173220  ...     0.247139  0.004090       0.003501   \n",
      "\n",
      "       turnover_var_126d  zero_trades_126d  zero_trades_21d  zero_trades_252d  \\\n",
      "0               0.439375          0.002792         0.002780          0.002652   \n",
      "1               0.425637          0.002704         0.002416          0.002676   \n",
      "2               0.356592          0.002753         0.002751          0.002807   \n",
      "3               0.344846          0.002935         0.003165          0.002890   \n",
      "4               0.361901          0.002833         0.002529          0.002844   \n",
      "...                  ...               ...              ...               ...   \n",
      "28708           0.522602          0.004023         0.003303          0.004328   \n",
      "28709           0.534361          0.004160         0.004732          0.004310   \n",
      "28710           0.549164          0.004167         0.004156          0.004308   \n",
      "28711           0.557890          0.004247         0.004262          0.004312   \n",
      "28712           0.560694          0.004224         0.004529          0.004370   \n",
      "\n",
      "             dolvol        lambda    rvol_m  \n",
      "0      6.798938e+08  2.941636e-10  0.089560  \n",
      "1      7.094750e+08  2.818986e-10  0.086833  \n",
      "2      6.982804e+08  2.864179e-10  0.069843  \n",
      "3      6.802223e+08  2.940215e-10  0.066398  \n",
      "4      7.368972e+08  2.714083e-10  0.069360  \n",
      "...             ...           ...       ...  \n",
      "28708  1.732788e+09  1.154209e-10  0.066737  \n",
      "28709  1.619178e+09  1.235194e-10  0.066813  \n",
      "28710  1.619647e+09  1.234837e-10  0.066119  \n",
      "28711  1.578173e+09  1.267289e-10  0.065042  \n",
      "28712  1.621881e+09  1.233136e-10  0.061376  \n",
      "\n",
      "[28713 rows x 123 columns]\n"
     ]
    }
   ],
   "source": [
    "\n",
    "# Tilføj kolonnen 'lambda'\n",
    "pi = settings[\"pi\"]\n",
    "#chars[\"dolvol\"] = chars[\"dolvol_126d\"]  # Kopiér dolvol_126d til dolvol\n",
    "#chars[\"lambda\"] = 2 / chars[\"dolvol\"] * pi  # Beregn lambda\n",
    "#chars[\"rvol_m\"] = chars[\"rvol_252d\"] * np.sqrt(21)  # Beregn rvol_m\n",
    "\n",
    "\n",
    "\n",
    "chars = chars.loc[:, ~chars.columns.duplicated()]\n",
    "    \n",
    "# Kontrollér for nødvendige kolonner\n",
    "required_cols = [\"dolvol_126d\", \"rvol_252d\"]\n",
    "for col in required_cols:\n",
    "    if col not in chars.columns:\n",
    "        raise KeyError(f\"Kolonnen '{col}' mangler i DataFrame.\")\n",
    "\n",
    "# Debugging: Tjek for null-værdier\n",
    "for col in required_cols:\n",
    "    if chars[col].isnull().any():\n",
    "        raise ValueError(f\"Kolonnen '{col}' indeholder manglende værdier.\")\n",
    "    \n",
    "# Debugging: Tjek for 0-værdier i 'dolvol_126d'\n",
    "if (chars[\"dolvol_126d\"] == 0).any():\n",
    "    raise ValueError(\"Kolonnen 'dolvol_126d' indeholder værdier lig 0, hvilket vil føre til divisionsfejl.\")\n",
    "\n",
    "# Beregn afledte kolonner\n",
    "print(\"Beregner 'dolvol', 'lambda' og 'rvol_m'...\")\n",
    "chars[\"dolvol\"] = chars[\"dolvol_126d\"]  # Kopiér dolvol_126d til dolvol\n",
    "chars[\"lambda\"] = 2 / chars[\"dolvol\"] * pi  # Beregn lambda\n",
    "chars[\"rvol_m\"] = chars[\"rvol_252d\"] * np.sqrt(21)  # Beregn rvol_m\n",
    "\n",
    "print(chars)\n"
   ]
  },
  {
   "cell_type": "code",
   "execution_count": 30,
   "id": "b649c7a1-eecd-4c0d-9b95-9a79564d0c7c",
   "metadata": {},
   "outputs": [
    {
     "name": "stdout",
     "output_type": "stream",
     "text": [
      "All missing excludes 0.60% of the observations\n"
     ]
    }
   ],
   "source": [
    "#Vi skal nu bruge data_ret_ld1: \n",
    "file_path_world_ret=\"./data_test/world_ret_test.csv\"\n",
    "risk_free_path=\"./data_test/risk_free_test.csv\"\n",
    "data_ret_ld1 = process_return_data(file_path_world_ret, risk_free_path)"
   ]
  },
  {
   "cell_type": "code",
   "execution_count": 31,
   "id": "5356f817-a44f-45d4-aa35-34773b6188a2",
   "metadata": {},
   "outputs": [
    {
     "name": "stdout",
     "output_type": "stream",
     "text": [
      "          id        eom   sic size_grp            me  rvol_252d   dolvol_126d  \\\n",
      "0      10104 2010-01-31  7372     mega  115558.73052   0.019544  6.798938e+08   \n",
      "1      10104 2010-02-28  7372     mega  123619.74809   0.018949  7.094750e+08   \n",
      "2      10104 2010-03-31  7372     mega  129040.82501   0.015241  6.982804e+08   \n",
      "3      10104 2010-04-30  7372     mega  130101.18774   0.014489  6.802223e+08   \n",
      "4      10104 2010-05-31  7372     mega  113436.81847   0.015136  7.368972e+08   \n",
      "...      ...        ...   ...      ...           ...        ...           ...   \n",
      "28708  92655 2023-07-31  6324     mega  471446.66929   0.014563  1.732788e+09   \n",
      "28709  92655 2023-08-31  6324     mega  441458.42446   0.014580  1.619178e+09   \n",
      "28710  92655 2023-09-30  6324     mega  467033.72021   0.014428  1.619647e+09   \n",
      "28711  92655 2023-10-31  6324     mega  496091.90354   0.014193  1.578173e+09   \n",
      "28712  92655 2023-11-30  6324     mega  511455.75015   0.013393  1.621881e+09   \n",
      "\n",
      "       age   aliq_at  aliq_mat  ...  zero_trades_126d  zero_trades_21d  \\\n",
      "0      301  0.526422  0.232151  ...          0.002792         0.002780   \n",
      "1      302  0.526422  0.249602  ...          0.002704         0.002416   \n",
      "2      303  0.570962  0.230516  ...          0.002753         0.002751   \n",
      "3      304  0.570962  0.218079  ...          0.002935         0.003165   \n",
      "4      305  0.570962  0.215020  ...          0.002833         0.002529   \n",
      "...    ...       ...       ...  ...               ...              ...   \n",
      "28708  487  0.536309  0.181335  ...          0.004023         0.003303   \n",
      "28709  488  0.536309  0.187952  ...          0.004160         0.004732   \n",
      "28710  489  0.536309  0.192017  ...          0.004167         0.004156   \n",
      "28711  490  0.501638  0.171298  ...          0.004247         0.004262   \n",
      "28712  491  0.501638  0.173220  ...          0.004224         0.004529   \n",
      "\n",
      "       zero_trades_252d        dolvol        lambda    rvol_m    tr_ld0  \\\n",
      "0              0.002652  6.798938e+08  2.941636e-10  0.089560       NaN   \n",
      "1              0.002676  7.094750e+08  2.818986e-10  0.086833  0.068941   \n",
      "2              0.002807  6.982804e+08  2.864179e-10  0.069843  0.042934   \n",
      "3              0.002890  6.802223e+08  2.940215e-10  0.066398  0.008060   \n",
      "4              0.002844  7.368972e+08  2.714083e-10  0.069360 -0.127489   \n",
      "...                 ...           ...           ...       ...       ...   \n",
      "28708          0.004328  1.732788e+09  1.154209e-10  0.066737  0.053142   \n",
      "28709          0.004310  1.619178e+09  1.235194e-10  0.066813 -0.058868   \n",
      "28710          0.004308  1.619647e+09  1.234837e-10  0.066119  0.062111   \n",
      "28711          0.004312  1.578173e+09  1.267289e-10  0.065042  0.061804   \n",
      "28712          0.004370  1.621881e+09  1.233136e-10  0.061376       NaN   \n",
      "\n",
      "         eom_ret   ret_ld1    tr_ld1  \n",
      "0     2010-02-28  0.068941  0.068941  \n",
      "1     2010-03-31  0.042934  0.042934  \n",
      "2     2010-04-30  0.007960  0.008060  \n",
      "3     2010-05-31 -0.127589 -0.127489  \n",
      "4     2010-06-30 -0.049307 -0.049207  \n",
      "...          ...       ...       ...  \n",
      "28708 2023-08-31 -0.063368 -0.058868  \n",
      "28709 2023-09-30  0.057611  0.062111  \n",
      "28710 2023-10-31  0.057504  0.061804  \n",
      "28711 2023-11-30  0.028084  0.032784  \n",
      "28712        NaT       NaN       NaN  \n",
      "\n",
      "[28713 rows x 127 columns]\n"
     ]
    }
   ],
   "source": [
    "# Merge chars ind i data_ret_ld1 baseret på id og eom\n",
    "#chars = data_ret_ld1.merge(chars, on=[\"id\", \"eom\"], how=\"left\")\n",
    "chars = chars.merge(data_ret_ld1, on=[\"id\", \"eom\"], how=\"left\")\n",
    "print(chars)"
   ]
  },
  {
   "cell_type": "code",
   "execution_count": 32,
   "id": "178453c8-9ce5-47b4-b3b9-1088eece9039",
   "metadata": {},
   "outputs": [
    {
     "name": "stdout",
     "output_type": "stream",
     "text": [
      "id                  int64\n",
      "eom        datetime64[ns]\n",
      "tr_ld0            float64\n",
      "eom_ret    datetime64[ns]\n",
      "ret_ld1           float64\n",
      "tr_ld1            float64\n",
      "dtype: object\n"
     ]
    }
   ],
   "source": [
    "print(data_ret_ld1.dtypes)"
   ]
  },
  {
   "cell_type": "code",
   "execution_count": 33,
   "id": "38436888-aff6-43a9-a548-c4edb9d14db0",
   "metadata": {},
   "outputs": [
    {
     "name": "stdout",
     "output_type": "stream",
     "text": [
      "id                   int64\n",
      "eom         datetime64[ns]\n",
      "sic                 object\n",
      "size_grp            object\n",
      "me                 float64\n",
      "                 ...      \n",
      "rvol_m             float64\n",
      "tr_ld0             float64\n",
      "eom_ret     datetime64[ns]\n",
      "ret_ld1            float64\n",
      "tr_ld1             float64\n",
      "Length: 127, dtype: object\n"
     ]
    }
   ],
   "source": [
    "print(chars.dtypes)"
   ]
  },
  {
   "cell_type": "code",
   "execution_count": null,
   "id": "bb9a211a-1136-41f5-af98-2d2b31f8c5ab",
   "metadata": {},
   "outputs": [],
   "source": []
  },
  {
   "cell_type": "code",
   "execution_count": 34,
   "id": "cda6db48-f963-4e65-950f-7c1207c27920",
   "metadata": {},
   "outputs": [
    {
     "name": "stdout",
     "output_type": "stream",
     "text": [
      "Filen er indlæst og filtreret succesfuldt.\n",
      "          eom  mkt_vw_exc\n",
      "0  2010-01-31   -0.038043\n",
      "1  2010-02-28    0.034614\n",
      "2  2010-03-31    0.064495\n",
      "3  2010-04-30    0.019148\n",
      "4  2010-05-31   -0.081046\n",
      "         eom      rf\n",
      "0 2010-01-31  0.0000\n",
      "1 2010-02-28  0.0000\n",
      "2 2010-03-31  0.0001\n",
      "3 2010-04-30  0.0001\n",
      "4 2010-05-31  0.0001\n",
      "         eom        wealth    mu_ld1\n",
      "0 2009-12-31  1.468331e+09 -0.038043\n",
      "1 2010-01-31  1.414519e+09  0.034614\n",
      "2 2010-02-28  1.465237e+09  0.064595\n",
      "3 2010-03-31  1.566419e+09  0.019248\n",
      "4 2010-04-30  1.597162e+09 -0.080946\n",
      "           eom        wealth    mu_ld1\n",
      "163 2023-07-31  9.975058e+09 -0.019997\n",
      "164 2023-08-31  9.779494e+09 -0.048173\n",
      "165 2023-09-30  9.330037e+09 -0.029172\n",
      "166 2023-10-31  9.065579e+09  0.093442\n",
      "167 2023-11-30  1.000000e+10       NaN\n"
     ]
    }
   ],
   "source": [
    "market_path=\"./data_test/market_returns_test.csv\"\n",
    "market = load_and_filter_market_returns_test(market_path)\n",
    "print(market.head())\n",
    "risk_free = process_risk_free_rate(risk_free_path)\n",
    "print(risk_free.head())\n",
    "#wealth_end = 1e+10\n",
    "wealth_end = pf_set[\"wealth\"]\n",
    "end = settings[\"split\"][\"test_end\"]\n",
    "#end = \"2023-11-30\"\n",
    "\n",
    "wealth = wealth_func(wealth_end, end, market, risk_free)\n",
    "print(wealth.head())\n",
    "print(wealth.tail())"
   ]
  },
  {
   "cell_type": "code",
   "execution_count": 35,
   "id": "36df055c-e318-43da-b46e-814858bfbd8d",
   "metadata": {},
   "outputs": [
    {
     "name": "stdout",
     "output_type": "stream",
     "text": [
      "           eom        wealth    mu_ld1\n",
      "0   2010-01-31  1.468331e+09 -0.038043\n",
      "1   2010-02-28  1.414519e+09  0.034614\n",
      "2   2010-03-31  1.465237e+09  0.064595\n",
      "3   2010-04-30  1.566419e+09  0.019248\n",
      "4   2010-05-31  1.597162e+09 -0.080946\n",
      "..         ...           ...       ...\n",
      "163 2023-08-31  9.975058e+09 -0.019997\n",
      "164 2023-09-30  9.779494e+09 -0.048173\n",
      "165 2023-10-31  9.330037e+09 -0.029172\n",
      "166 2023-11-30  9.065579e+09  0.093442\n",
      "167 2023-12-31  1.000000e+10       NaN\n",
      "\n",
      "[168 rows x 3 columns]\n",
      "          id        eom   sic size_grp            me  rvol_252d   dolvol_126d  \\\n",
      "0      10104 2010-01-31  7372     mega  115558.73052   0.019544  6.798938e+08   \n",
      "1      10104 2010-02-28  7372     mega  123619.74809   0.018949  7.094750e+08   \n",
      "2      10104 2010-03-31  7372     mega  129040.82501   0.015241  6.982804e+08   \n",
      "3      10104 2010-04-30  7372     mega  130101.18774   0.014489  6.802223e+08   \n",
      "4      10104 2010-05-31  7372     mega  113436.81847   0.015136  7.368972e+08   \n",
      "...      ...        ...   ...      ...           ...        ...           ...   \n",
      "28708  92655 2023-07-31  6324     mega  471446.66929   0.014563  1.732788e+09   \n",
      "28709  92655 2023-08-31  6324     mega  441458.42446   0.014580  1.619178e+09   \n",
      "28710  92655 2023-09-30  6324     mega  467033.72021   0.014428  1.619647e+09   \n",
      "28711  92655 2023-10-31  6324     mega  496091.90354   0.014193  1.578173e+09   \n",
      "28712  92655 2023-11-30  6324     mega  511455.75015   0.013393  1.621881e+09   \n",
      "\n",
      "       age   aliq_at  aliq_mat  ...  zero_trades_21d  zero_trades_252d  \\\n",
      "0      301  0.526422  0.232151  ...         0.002780          0.002652   \n",
      "1      302  0.526422  0.249602  ...         0.002416          0.002676   \n",
      "2      303  0.570962  0.230516  ...         0.002751          0.002807   \n",
      "3      304  0.570962  0.218079  ...         0.003165          0.002890   \n",
      "4      305  0.570962  0.215020  ...         0.002529          0.002844   \n",
      "...    ...       ...       ...  ...              ...               ...   \n",
      "28708  487  0.536309  0.181335  ...         0.003303          0.004328   \n",
      "28709  488  0.536309  0.187952  ...         0.004732          0.004310   \n",
      "28710  489  0.536309  0.192017  ...         0.004156          0.004308   \n",
      "28711  490  0.501638  0.171298  ...         0.004262          0.004312   \n",
      "28712  491  0.501638  0.173220  ...         0.004529          0.004370   \n",
      "\n",
      "             dolvol        lambda    rvol_m    tr_ld0    eom_ret   ret_ld1  \\\n",
      "0      6.798938e+08  2.941636e-10  0.089560       NaN 2010-02-28  0.068941   \n",
      "1      7.094750e+08  2.818986e-10  0.086833  0.068941 2010-03-31  0.042934   \n",
      "2      6.982804e+08  2.864179e-10  0.069843  0.042934 2010-04-30  0.007960   \n",
      "3      6.802223e+08  2.940215e-10  0.066398  0.008060 2010-05-31 -0.127589   \n",
      "4      7.368972e+08  2.714083e-10  0.069360 -0.127489 2010-06-30 -0.049307   \n",
      "...             ...           ...       ...       ...        ...       ...   \n",
      "28708  1.732788e+09  1.154209e-10  0.066737  0.053142 2023-08-31 -0.063368   \n",
      "28709  1.619178e+09  1.235194e-10  0.066813 -0.058868 2023-09-30  0.057611   \n",
      "28710  1.619647e+09  1.234837e-10  0.066119  0.062111 2023-10-31  0.057504   \n",
      "28711  1.578173e+09  1.267289e-10  0.065042  0.061804 2023-11-30  0.028084   \n",
      "28712  1.621881e+09  1.233136e-10  0.061376       NaN        NaT       NaN   \n",
      "\n",
      "         tr_ld1    mu_ld0  \n",
      "0      0.068941 -0.038043  \n",
      "1      0.042934  0.034614  \n",
      "2      0.008060  0.064595  \n",
      "3     -0.127489  0.019248  \n",
      "4     -0.049207 -0.080946  \n",
      "...         ...       ...  \n",
      "28708 -0.058868  0.036647  \n",
      "28709  0.062111 -0.019997  \n",
      "28710  0.061804 -0.048173  \n",
      "28711  0.032784 -0.029172  \n",
      "28712       NaN  0.093442  \n",
      "\n",
      "[28713 rows x 128 columns]\n"
     ]
    }
   ],
   "source": [
    "# Forskyd 'eom' med en måned i wealth DataFrame\n",
    "wealth[\"eom\"] = wealth[\"eom\"] + pd.offsets.MonthEnd(1)\n",
    "print(wealth)\n",
    "\n",
    "# Behold kun relevante kolonner fra wealth\n",
    "wealth_subset = wealth[[\"eom\", \"mu_ld1\"]].rename(columns={\"mu_ld1\": \"mu_ld0\"})\n",
    "\n",
    "# Merge wealth ind i chars baseret på 'eom'\n",
    "chars = chars.merge(wealth_subset, on=\"eom\", how=\"left\")\n",
    "print(chars)"
   ]
  },
  {
   "cell_type": "code",
   "execution_count": 36,
   "id": "1b6d128a-794a-41f9-8632-7731091b7545",
   "metadata": {},
   "outputs": [
    {
     "name": "stdout",
     "output_type": "stream",
     "text": [
      "        id        eom   sic size_grp            me  rvol_252d   dolvol_126d  \\\n",
      "0    10104 2010-01-31  7372     mega  115558.73052   0.019544  6.798938e+08   \n",
      "1    10104 2010-02-28  7372     mega  123619.74809   0.018949  7.094750e+08   \n",
      "2    10104 2010-03-31  7372     mega  129040.82501   0.015241  6.982804e+08   \n",
      "3    10104 2010-04-30  7372     mega  130101.18774   0.014489  6.802223e+08   \n",
      "4    10104 2010-05-31  7372     mega  113436.81847   0.015136  7.368972e+08   \n",
      "..     ...        ...   ...      ...           ...        ...           ...   \n",
      "162  10104 2023-07-31  7379     mega  318192.59168   0.016165  9.220588e+08   \n",
      "163  10104 2023-08-31  7379     mega  326769.63935   0.016484  9.632093e+08   \n",
      "164  10104 2023-09-30  7379     mega  290154.70090   0.018170  1.134544e+09   \n",
      "165  10104 2023-10-31  7379     mega  283251.48258   0.017441  1.147283e+09   \n",
      "166  10104 2023-11-30  7379     mega  318342.88245   0.017289  1.138572e+09   \n",
      "\n",
      "     age   aliq_at  aliq_mat  ...  zero_trades_21d  zero_trades_252d  \\\n",
      "0    301  0.526422  0.232151  ...         0.002780          0.002652   \n",
      "1    302  0.526422  0.249602  ...         0.002416          0.002676   \n",
      "2    303  0.570962  0.230516  ...         0.002751          0.002807   \n",
      "3    304  0.570962  0.218079  ...         0.003165          0.002890   \n",
      "4    305  0.570962  0.215020  ...         0.002529          0.002844   \n",
      "..   ...       ...       ...  ...              ...               ...   \n",
      "162  463  0.336634  0.139523  ...         0.004477          0.004580   \n",
      "163  464  0.336634  0.143870  ...         0.004513          0.004525   \n",
      "164  465  0.356284       NaN  ...         0.002835          0.004471   \n",
      "165  466  0.356284       NaN  ...         0.004507          0.004518   \n",
      "166  467  0.356284       NaN  ...         0.004949          0.004521   \n",
      "\n",
      "           dolvol        lambda    rvol_m    tr_ld0    eom_ret   ret_ld1  \\\n",
      "0    6.798938e+08  2.941636e-10  0.089560       NaN 2010-02-28  0.068941   \n",
      "1    7.094750e+08  2.818986e-10  0.086833  0.068941 2010-03-31  0.042934   \n",
      "2    6.982804e+08  2.864179e-10  0.069843  0.042934 2010-04-30  0.007960   \n",
      "3    6.802223e+08  2.940215e-10  0.066398  0.008060 2010-05-31 -0.127589   \n",
      "4    7.368972e+08  2.714083e-10  0.069360 -0.127489 2010-06-30 -0.049307   \n",
      "..            ...           ...       ...       ...        ...       ...   \n",
      "162  9.220588e+08  2.169059e-10  0.074079 -0.012651 2023-08-31  0.022419   \n",
      "163  9.632093e+08  2.076392e-10  0.075538  0.026919 2023-09-30 -0.124460   \n",
      "164  1.134544e+09  1.762823e-10  0.083267 -0.119960 2023-10-31 -0.024730   \n",
      "165  1.147283e+09  1.743249e-10  0.079926 -0.020430 2023-11-30  0.119464   \n",
      "166  1.138572e+09  1.756586e-10  0.079230       NaN        NaT       NaN   \n",
      "\n",
      "       tr_ld1    mu_ld0  \n",
      "0    0.068941 -0.038043  \n",
      "1    0.042934  0.034614  \n",
      "2    0.008060  0.064595  \n",
      "3   -0.127489  0.019248  \n",
      "4   -0.049207 -0.080946  \n",
      "..        ...       ...  \n",
      "162  0.026919  0.036647  \n",
      "163 -0.119960 -0.019997  \n",
      "164 -0.020430 -0.048173  \n",
      "165  0.124164 -0.029172  \n",
      "166       NaN  0.093442  \n",
      "\n",
      "[167 rows x 128 columns]\n"
     ]
    }
   ],
   "source": [
    "specific_id = 10104  # Erstat med det ID, du vil filtrere\n",
    "filtered_chars = chars[chars[\"id\"] == specific_id]\n",
    "\n",
    "print(filtered_chars)  # Udskriver alle kolonner for det valgte ID"
   ]
  },
  {
   "cell_type": "markdown",
   "id": "9ef4f26b-f90a-4207-929b-f48e97e258e9",
   "metadata": {
    "jp-MarkdownHeadingCollapsed": true
   },
   "source": [
    "## Prepare matrix of future monthly returns"
   ]
  },
  {
   "cell_type": "code",
   "execution_count": 56,
   "id": "65cac43f-2b3c-48af-a324-8a19e092f93d",
   "metadata": {},
   "outputs": [
    {
     "name": "stdout",
     "output_type": "stream",
     "text": [
      "          id excntry        eom   ret_exc\n",
      "0      76076     USA 2010-01-31 -0.061432\n",
      "1      11955     USA 2010-01-31 -0.052084\n",
      "2      77702     USA 2010-01-31 -0.055102\n",
      "3      77274     USA 2010-01-31  0.115525\n",
      "4      76614     USA 2010-01-31  0.102536\n",
      "...      ...     ...        ...       ...\n",
      "28719  73139     USA 2023-11-30  0.092201\n",
      "28720  59459     USA 2023-11-30  0.074291\n",
      "28721  71563     USA 2023-11-30  0.147198\n",
      "28722  72726     USA 2023-11-30  0.122297\n",
      "28723  60442     USA 2023-11-30  0.165839\n",
      "\n",
      "[28724 rows x 4 columns]\n",
      "          id        eom   ret_ld1   ret_ld2   ret_ld3   ret_ld4   ret_ld5  \\\n",
      "0      10104 2010-01-31  0.068941  0.042934  0.007960 -0.127589 -0.049307   \n",
      "1      10104 2010-02-28  0.042934  0.007960 -0.127589 -0.049307  0.103772   \n",
      "2      10104 2010-03-31  0.007960 -0.127589 -0.049307  0.103772 -0.076057   \n",
      "3      10104 2010-04-30 -0.127589 -0.049307  0.103772 -0.076057  0.228989   \n",
      "4      10104 2010-05-31 -0.049307  0.103772 -0.076057  0.228989  0.095977   \n",
      "...      ...        ...       ...       ...       ...       ...       ...   \n",
      "28719  92655 2023-07-31 -0.063368  0.057611  0.057504  0.028084  0.000000   \n",
      "28720  92655 2023-08-31  0.057611  0.057504  0.028084  0.000000  0.000000   \n",
      "28721  92655 2023-09-30  0.057504  0.028084  0.000000  0.000000  0.000000   \n",
      "28722  92655 2023-10-31  0.028084  0.000000  0.000000  0.000000  0.000000   \n",
      "28723  92655 2023-11-30  0.000000  0.000000  0.000000  0.000000  0.000000   \n",
      "\n",
      "        ret_ld6   ret_ld7   ret_ld8   ret_ld9  ret_ld10  ret_ld11  ret_ld12  \n",
      "0      0.103772 -0.076057  0.228989  0.095977 -0.079590  0.157190  0.024854  \n",
      "1     -0.076057  0.228989  0.095977 -0.079590  0.157190  0.024854  0.027040  \n",
      "2      0.228989  0.095977 -0.079590  0.157190  0.024854  0.027040  0.016118  \n",
      "3      0.095977 -0.079590  0.157190  0.024854  0.027040  0.016118  0.077342  \n",
      "4     -0.079590  0.157190  0.024854  0.027040  0.016118  0.077342 -0.048400  \n",
      "...         ...       ...       ...       ...       ...       ...       ...  \n",
      "28719  0.000000  0.000000  0.000000  0.000000  0.000000  0.000000  0.000000  \n",
      "28720  0.000000  0.000000  0.000000  0.000000  0.000000  0.000000  0.000000  \n",
      "28721  0.000000  0.000000  0.000000  0.000000  0.000000  0.000000  0.000000  \n",
      "28722  0.000000  0.000000  0.000000  0.000000  0.000000  0.000000  0.000000  \n",
      "28723  0.000000  0.000000  0.000000  0.000000  0.000000  0.000000  0.000000  \n",
      "\n",
      "[28724 rows x 14 columns]\n",
      "Total missing values in DataFrame: 0 (0.00%)\n",
      "          Missing Values  Percentage (%)\n",
      "id                     0             0.0\n",
      "eom                    0             0.0\n",
      "ret_ld1                0             0.0\n",
      "ret_ld2                0             0.0\n",
      "ret_ld3                0             0.0\n",
      "ret_ld4                0             0.0\n",
      "ret_ld5                0             0.0\n",
      "ret_ld6                0             0.0\n",
      "ret_ld7                0             0.0\n",
      "ret_ld8                0             0.0\n",
      "ret_ld9                0             0.0\n",
      "ret_ld10               0             0.0\n",
      "ret_ld11               0             0.0\n",
      "ret_ld12               0             0.0\n"
     ]
    }
   ],
   "source": [
    "file_path_world_ret_test=\"./data_test/world_ret_test.csv\"\n",
    "file_path_risk_free_test=\"./data_test/risk_free_test.csv\"\n",
    "monthly = pd.read_csv(file_path_world_ret_test, usecols=[\"excntry\", \"id\", \"eom\", \"ret_exc\"], dtype={\"eom\": str})\n",
    "\n",
    "# Filtrér kun USA og CRSP-observationer\n",
    "monthly = monthly[(monthly[\"excntry\"] == \"USA\") & (monthly[\"id\"] <= 99999)]\n",
    "\n",
    "# Konverter 'eom' fra string til datetime\n",
    "monthly[\"eom\"] = pd.to_datetime(monthly[\"eom\"]) #monthly[\"eom\"] = pd.to_datetime(monthly[\"eom\"], format=\"%Y%m%d\"), this is already in the right dataformat\n",
    "#print(monthly)\n",
    "#print(monthly.dtypes)\n",
    "print(monthly)\n",
    "\n",
    "horizon_K = settings[\"pf\"][\"hps\"][\"m1\"][\"K\"]\n",
    "\n",
    "# Anvend long_horizon_ret med de relevante parametre\n",
    "data_ret = long_horizon_ret(monthly, h=horizon_K, impute=\"zero\")\n",
    "data_ret = data_ret.drop(columns=[\"start\", \"end\", \"merge_date\"])\n",
    "\n",
    "\n",
    "# Vis de første par rækker for at bekræfte resultatet\n",
    "print(data_ret)\n",
    "#print(data_ret)\n",
    "nan_stats = check_nan(data_ret)\n",
    "print(nan_stats)"
   ]
  },
  {
   "cell_type": "code",
   "execution_count": 57,
   "id": "a9d0a441-f1ee-49ed-8bd6-2500bc5c33a1",
   "metadata": {},
   "outputs": [
    {
     "name": "stdout",
     "output_type": "stream",
     "text": [
      "          id        eom    eom_ret   ret_ld1\n",
      "0      10104 2010-01-31 2010-02-28  0.068941\n",
      "1      10104 2010-02-28 2010-03-31  0.042934\n",
      "2      10104 2010-03-31 2010-04-30  0.007960\n",
      "3      10104 2010-04-30 2010-05-31 -0.127589\n",
      "4      10104 2010-05-31 2010-06-30 -0.049307\n",
      "...      ...        ...        ...       ...\n",
      "28719  92655 2023-07-31 2023-08-31 -0.063368\n",
      "28720  92655 2023-08-31 2023-09-30  0.057611\n",
      "28721  92655 2023-09-30 2023-10-31  0.057504\n",
      "28722  92655 2023-10-31 2023-11-30  0.028084\n",
      "28723  92655 2023-11-30 2023-12-31  0.000000\n",
      "\n",
      "[28724 rows x 4 columns]\n"
     ]
    }
   ],
   "source": [
    "# Behold kun nødvendige kolonner og beregn eom_ret\n",
    "data_ret_ld1 = data_ret[[\"id\", \"eom\", \"ret_ld1\"]].copy()\n",
    "\n",
    "# Beregn eom_ret: sidste dag i næste måned\n",
    "data_ret_ld1[\"eom_ret\"] = data_ret_ld1[\"eom\"] + pd.DateOffset(months=1)\n",
    "data_ret_ld1[\"eom_ret\"] = data_ret_ld1[\"eom_ret\"] + MonthEnd(0)\n",
    "# Omarranger kolonnerne, så 'ret_ld1' kommer sidst\n",
    "data_ret_ld1 = data_ret_ld1[[\"id\", \"eom\", \"eom_ret\", \"ret_ld1\"]]\n",
    "print(data_ret_ld1)"
   ]
  },
  {
   "cell_type": "code",
   "execution_count": 58,
   "id": "83e06817-057a-42cc-8995-e004414ec037",
   "metadata": {},
   "outputs": [
    {
     "name": "stdout",
     "output_type": "stream",
     "text": [
      "          id        eom    eom_ret   ret_ld1      rf\n",
      "0      10104 2010-01-31 2010-02-28  0.068941  0.0000\n",
      "1      10104 2010-02-28 2010-03-31  0.042934  0.0000\n",
      "2      10104 2010-03-31 2010-04-30  0.007960  0.0001\n",
      "3      10104 2010-04-30 2010-05-31 -0.127589  0.0001\n",
      "4      10104 2010-05-31 2010-06-30 -0.049307  0.0001\n",
      "...      ...        ...        ...       ...     ...\n",
      "28719  92655 2023-07-31 2023-08-31 -0.063368  0.0045\n",
      "28720  92655 2023-08-31 2023-09-30  0.057611  0.0045\n",
      "28721  92655 2023-09-30 2023-10-31  0.057504  0.0043\n",
      "28722  92655 2023-10-31 2023-11-30  0.028084  0.0047\n",
      "28723  92655 2023-11-30 2023-12-31  0.000000  0.0044\n",
      "\n",
      "[28724 rows x 5 columns]\n"
     ]
    }
   ],
   "source": [
    "data_ret_ld1 = data_ret_ld1.merge(risk_free, on=\"eom\", how=\"left\")\n",
    "print(data_ret_ld1)"
   ]
  },
  {
   "cell_type": "code",
   "execution_count": 59,
   "id": "458872db-69a5-4721-97fd-17c389c2527b",
   "metadata": {},
   "outputs": [
    {
     "name": "stdout",
     "output_type": "stream",
     "text": [
      "          id        eom    eom_ret   ret_ld1      rf    tr_ld1\n",
      "0      10104 2010-01-31 2010-02-28  0.068941  0.0000  0.068941\n",
      "1      10104 2010-02-28 2010-03-31  0.042934  0.0000  0.042934\n",
      "2      10104 2010-03-31 2010-04-30  0.007960  0.0001  0.008060\n",
      "3      10104 2010-04-30 2010-05-31 -0.127589  0.0001 -0.127489\n",
      "4      10104 2010-05-31 2010-06-30 -0.049307  0.0001 -0.049207\n",
      "...      ...        ...        ...       ...     ...       ...\n",
      "28719  92655 2023-07-31 2023-08-31 -0.063368  0.0045 -0.058868\n",
      "28720  92655 2023-08-31 2023-09-30  0.057611  0.0045  0.062111\n",
      "28721  92655 2023-09-30 2023-10-31  0.057504  0.0043  0.061804\n",
      "28722  92655 2023-10-31 2023-11-30  0.028084  0.0047  0.032784\n",
      "28723  92655 2023-11-30 2023-12-31  0.000000  0.0044  0.004400\n",
      "\n",
      "[28724 rows x 6 columns]\n"
     ]
    }
   ],
   "source": [
    "#Beregn total afkast: excess return + rf\n",
    "data_ret_ld1[\"tr_ld1\"] = data_ret_ld1[\"ret_ld1\"] + data_ret_ld1[\"rf\"]\n",
    "print(data_ret_ld1)"
   ]
  },
  {
   "cell_type": "code",
   "execution_count": 60,
   "id": "21123051-3ac3-4d7d-aa80-06110e8e7a5c",
   "metadata": {},
   "outputs": [
    {
     "name": "stdout",
     "output_type": "stream",
     "text": [
      "          id        eom    eom_ret   ret_ld1    tr_ld1\n",
      "0      10104 2010-01-31 2010-02-28  0.068941  0.068941\n",
      "1      10104 2010-02-28 2010-03-31  0.042934  0.042934\n",
      "2      10104 2010-03-31 2010-04-30  0.007960  0.008060\n",
      "3      10104 2010-04-30 2010-05-31 -0.127589 -0.127489\n",
      "4      10104 2010-05-31 2010-06-30 -0.049307 -0.049207\n",
      "...      ...        ...        ...       ...       ...\n",
      "28719  92655 2023-07-31 2023-08-31 -0.063368 -0.058868\n",
      "28720  92655 2023-08-31 2023-09-30  0.057611  0.062111\n",
      "28721  92655 2023-09-30 2023-10-31  0.057504  0.061804\n",
      "28722  92655 2023-10-31 2023-11-30  0.028084  0.032784\n",
      "28723  92655 2023-11-30 2023-12-31  0.000000  0.004400\n",
      "\n",
      "[28724 rows x 5 columns]\n"
     ]
    }
   ],
   "source": [
    "# Fjern 'rf' kolonnen efter brug\n",
    "data_ret_ld1.drop(columns=[\"rf\"], inplace=True)\n",
    "print(data_ret_ld1)"
   ]
  },
  {
   "cell_type": "code",
   "execution_count": 61,
   "id": "3690cbd1-10da-4b3e-8672-ec80b746050b",
   "metadata": {},
   "outputs": [
    {
     "name": "stdout",
     "output_type": "stream",
     "text": [
      "          id        eom    tr_ld0    eom_ret   ret_ld1    tr_ld1\n",
      "0      10104 2010-01-31       NaN 2010-02-28  0.068941  0.068941\n",
      "1      10104 2010-02-28  0.068941 2010-03-31  0.042934  0.042934\n",
      "2      10104 2010-03-31  0.042934 2010-04-30  0.007960  0.008060\n",
      "3      10104 2010-04-30  0.008060 2010-05-31 -0.127589 -0.127489\n",
      "4      10104 2010-05-31 -0.127489 2010-06-30 -0.049307 -0.049207\n",
      "...      ...        ...       ...        ...       ...       ...\n",
      "28719  92655 2023-07-31  0.053142 2023-08-31 -0.063368 -0.058868\n",
      "28720  92655 2023-08-31 -0.058868 2023-09-30  0.057611  0.062111\n",
      "28721  92655 2023-09-30  0.062111 2023-10-31  0.057504  0.061804\n",
      "28722  92655 2023-10-31  0.061804 2023-11-30  0.028084  0.032784\n",
      "28723  92655 2023-11-30  0.032784 2023-12-31  0.000000  0.004400\n",
      "\n",
      "[28724 rows x 6 columns]\n"
     ]
    }
   ],
   "source": [
    "# Opret en kopi af data_ret_ld1 med justeret eom\n",
    "data_ret_ld1_shifted = data_ret_ld1[[\"id\", \"eom\", \"tr_ld1\"]].copy()\n",
    "\n",
    "# Flyt eom til næste måneds sidste dag\n",
    "data_ret_ld1_shifted[\"eom\"] = data_ret_ld1_shifted[\"eom\"] + pd.DateOffset(months=1)\n",
    "data_ret_ld1_shifted[\"eom\"] = data_ret_ld1_shifted[\"eom\"] + MonthEnd(0)\n",
    "\n",
    "# Omdøb tr_ld1 til tr_ld0\n",
    "data_ret_ld1_shifted.rename(columns={\"tr_ld1\": \"tr_ld0\"}, inplace=True)\n",
    "\n",
    "# Merge for at inkludere tr_ld0 i data_ret_ld1\n",
    "data_ret_ld1 = data_ret_ld1.merge(data_ret_ld1_shifted, on=[\"id\", \"eom\"], how=\"left\")\n",
    "\n",
    "#Omarranger kolonner\n",
    "data_ret_ld1 = data_ret_ld1[[\"id\", \"eom\", \"tr_ld0\", \"eom_ret\", \"ret_ld1\", \"tr_ld1\"]]\n",
    "\n",
    "# Fjern 'monthly' variablen fra hukommelsen\n",
    "del monthly\n",
    "\n",
    "# Vis de første rækker for at bekræfte resultatet\n",
    "print(data_ret_ld1)"
   ]
  },
  {
   "cell_type": "code",
   "execution_count": null,
   "id": "d736f85c-f477-40bd-8a30-4decdcb89d21",
   "metadata": {},
   "outputs": [],
   "source": []
  },
  {
   "cell_type": "code",
   "execution_count": null,
   "id": "f9fc555a-c973-4875-8d3d-c3a281eb5815",
   "metadata": {},
   "outputs": [],
   "source": []
  },
  {
   "cell_type": "code",
   "execution_count": null,
   "id": "ea71a2c4-cbd6-4435-9729-0f7b391afadb",
   "metadata": {},
   "outputs": [],
   "source": []
  },
  {
   "cell_type": "code",
   "execution_count": null,
   "id": "9d3fc588-29c1-496b-aa6c-39405d5f55f4",
   "metadata": {},
   "outputs": [],
   "source": []
  },
  {
   "cell_type": "markdown",
   "id": "1da50f4b-8397-437d-91e1-b8e340e534a1",
   "metadata": {
    "jp-MarkdownHeadingCollapsed": true
   },
   "source": [
    "## Lav monthly_ret_monthly.csv fil kun med vores test id'er"
   ]
  },
  {
   "cell_type": "code",
   "execution_count": 8,
   "id": "8cc45038-f1dc-4049-9763-81d3ce61a9ae",
   "metadata": {},
   "outputs": [],
   "source": [
    "file_path_id_test=\"./data_test/top_5_percent_ids.csv\"\n",
    "file_path_world_ret=\"./Data/world_ret_monthly.csv\""
   ]
  },
  {
   "cell_type": "code",
   "execution_count": 9,
   "id": "d2aaef89-8d11-4742-aebd-db8e778f7f69",
   "metadata": {},
   "outputs": [],
   "source": [
    "world_ret = pd.read_csv(file_path_world_ret)\n",
    "id_test = pd.read_csv(file_path_id_test)"
   ]
  },
  {
   "cell_type": "markdown",
   "id": "03279b7c-e148-40e3-86e5-ecb9a7a2ac1f",
   "metadata": {},
   "source": [
    "#### Her filtreres kun for de unikke id'er for test-datasættet"
   ]
  },
  {
   "cell_type": "code",
   "execution_count": 15,
   "id": "18ae6379-5a11-4f85-bffa-20a647ae87ab",
   "metadata": {
    "scrolled": true
   },
   "outputs": [
    {
     "name": "stdout",
     "output_type": "stream",
     "text": [
      "        id excntry       eom          me  ret  ret_local  ret_exc  source_crsp\n",
      "350  10145     USA  19251231  248.292000  NaN        NaN      NaN            1\n",
      "447  14277     USA  19251231    7.140000  NaN        NaN      NaN            1\n",
      "456  13928     USA  19251231  111.367500  NaN        NaN      NaN            1\n",
      "457  13901     USA  19251231    8.118438  NaN        NaN      NaN            1\n",
      "458  13856     USA  19251231    4.956250  NaN        NaN      NaN            1\n",
      "(102785, 8)\n",
      "Antal unikke ID'er: 172\n"
     ]
    }
   ],
   "source": [
    "# Filtrér world_ret for kun at inkludere id'er, der er i id_test\n",
    "filtered_world_ret = world_ret[world_ret['id'].isin(id_test['id'])]\n",
    "\n",
    "# Gem den filtrerede dataframe til en ny CSV-fil\n",
    "filtered_world_ret.to_csv(\"filtered_world_ret.csv\", index=False)\n",
    "\n",
    "# Bekræftelse på filtrering\n",
    "print(filtered_world_ret.head())\n",
    "print(filtered_world_ret.shape)\n",
    "\n",
    "#Start-dato-test: start_date = \"2010-01-31   slut_dato-test: \n",
    "#start_date = \"2010-01-31\n",
    "#end_date = \"2023-11-30\"\n",
    "unique_ids_count = filtered_world_ret['id'].nunique()\n",
    "print(f\"Antal unikke ID'er: {unique_ids_count}\")"
   ]
  },
  {
   "cell_type": "code",
   "execution_count": 17,
   "id": "e05bcafe-c95c-48e9-8d01-3b41286aeaa8",
   "metadata": {},
   "outputs": [
    {
     "name": "stdout",
     "output_type": "stream",
     "text": [
      "             id excntry        eom             me       ret  ret_local  \\\n",
      "13273331  76076     USA 2010-01-31  128842.976060 -0.061404  -0.061404   \n",
      "13273375  11955     USA 2010-01-31   15693.346226 -0.052056  -0.052056   \n",
      "13273450  77702     USA 2010-01-31   16198.686681 -0.055074  -0.055074   \n",
      "13273577  77274     USA 2010-01-31   43431.077722  0.115553   0.115553   \n",
      "13273579  76614     USA 2010-01-31    2117.923708  0.102564   0.102564   \n",
      "\n",
      "           ret_exc  source_crsp  \n",
      "13273331 -0.061432            1  \n",
      "13273375 -0.052084            1  \n",
      "13273450 -0.055102            1  \n",
      "13273577  0.115525            1  \n",
      "13273579  0.102536            1  \n",
      "             id excntry        eom             me       ret  ret_local  \\\n",
      "25021086  73139     USA 2023-11-30  112574.280250  0.096625   0.096625   \n",
      "25021088  59459     USA 2023-11-30   41253.426265  0.078715   0.078715   \n",
      "25021089  71563     USA 2023-11-30   42864.088706  0.151622   0.151622   \n",
      "25021093  72726     USA 2023-11-30   22471.086786  0.126721   0.126721   \n",
      "25021102  60442     USA 2023-11-30   53361.763034  0.170263   0.170263   \n",
      "\n",
      "           ret_exc  source_crsp  \n",
      "25021086  0.092201            1  \n",
      "25021088  0.074291            1  \n",
      "25021089  0.147198            1  \n",
      "25021093  0.122297            1  \n",
      "25021102  0.165839            1  \n",
      "Shape efter dato-filter: (28724, 8)\n",
      "Antal unikke ID'er efter dato-filter: 172\n"
     ]
    }
   ],
   "source": [
    "# Konverter 'eom' til datetime-format\n",
    "filtered_world_ret['eom'] = pd.to_datetime(filtered_world_ret['eom'], format='%Y%m%d')\n",
    "\n",
    "# Definer dato-interval\n",
    "start_date = \"2010-01-31\"\n",
    "end_date = \"2023-11-30\"\n",
    "\n",
    "# Filtrér baseret på dato-intervallet\n",
    "filtered_world_ret = filtered_world_ret[(filtered_world_ret['eom'] >= start_date) & (filtered_world_ret['eom'] <= end_date)]\n",
    "\n",
    "# Gem den filtrerede dataframe til en ny CSV-fil\n",
    "#filtered_world_ret.to_csv(\"filtered_world_ret_filtered_by_date.csv\", index=False)\n",
    "\n",
    "# Bekræftelse\n",
    "print(filtered_world_ret.head())\n",
    "print(filtered_world_ret.tail())\n",
    "print(f\"Shape efter dato-filter: {filtered_world_ret.shape}\")\n",
    "\n",
    "# Tæl unikke ID'er efter filtrering\n",
    "unique_ids_count = filtered_world_ret['id'].nunique()\n",
    "print(f\"Antal unikke ID'er efter dato-filter: {unique_ids_count}\")"
   ]
  },
  {
   "cell_type": "markdown",
   "id": "14c93239-37f9-4e0b-a52b-f5d617377972",
   "metadata": {
    "jp-MarkdownHeadingCollapsed": true
   },
   "source": [
    "## mothly full data (not ready yet)"
   ]
  },
  {
   "cell_type": "code",
   "execution_count": 4,
   "id": "1f98627e-d8c9-44d3-b2da-8845407b06ee",
   "metadata": {},
   "outputs": [
    {
     "name": "stdout",
     "output_type": "stream",
     "text": [
      "             id excntry        eom   ret_exc\n",
      "0         12589     USA 1925-12-31       NaN\n",
      "1         14349     USA 1925-12-31       NaN\n",
      "2         14461     USA 1925-12-31       NaN\n",
      "3         11631     USA 1925-12-31       NaN\n",
      "4         11287     USA 1925-12-31       NaN\n",
      "...         ...     ...        ...       ...\n",
      "25108332  11018     USA 2023-12-31  0.092401\n",
      "25108333  10777     USA 2023-12-31 -0.037593\n",
      "25108334  10696     USA 2023-12-31  0.012808\n",
      "25108335  11006     USA 2023-12-31  0.177632\n",
      "25108336  75517     USA 2023-12-31  0.111914\n",
      "\n",
      "[5037353 rows x 4 columns]\n"
     ]
    }
   ],
   "source": [
    "# Indlæs data\n",
    "monthly = pd.read_csv(\"Data/world_ret_monthly.csv\", usecols=[\"excntry\", \"id\", \"eom\", \"ret_exc\"], dtype={\"eom\": str})\n",
    "\n",
    "# Filtrér kun USA og CRSP-observationer\n",
    "monthly = monthly[(monthly[\"excntry\"] == \"USA\") & (monthly[\"id\"] <= 99999)]\n",
    "\n",
    "# Konverter 'eom' fra string til datetime\n",
    "monthly[\"eom\"] = pd.to_datetime(monthly[\"eom\"], format=\"%Y%m%d\")\n",
    "\n",
    "print(monthly)"
   ]
  },
  {
   "cell_type": "code",
   "execution_count": 5,
   "id": "f5e51f13-72c0-4a98-8347-3347ee097b6d",
   "metadata": {},
   "outputs": [
    {
     "ename": "MemoryError",
     "evalue": "Unable to allocate 338. MiB for an array with shape (44305800, 1) and data type float64",
     "output_type": "error",
     "traceback": [
      "\u001b[1;31m---------------------------------------------------------------------------\u001b[0m",
      "\u001b[1;31mMemoryError\u001b[0m                               Traceback (most recent call last)",
      "Cell \u001b[1;32mIn[5], line 4\u001b[0m\n\u001b[0;32m      1\u001b[0m horizon_K \u001b[38;5;241m=\u001b[39m settings[\u001b[38;5;124m\"\u001b[39m\u001b[38;5;124mpf\u001b[39m\u001b[38;5;124m\"\u001b[39m][\u001b[38;5;124m\"\u001b[39m\u001b[38;5;124mhps\u001b[39m\u001b[38;5;124m\"\u001b[39m][\u001b[38;5;124m\"\u001b[39m\u001b[38;5;124mm1\u001b[39m\u001b[38;5;124m\"\u001b[39m][\u001b[38;5;124m\"\u001b[39m\u001b[38;5;124mK\u001b[39m\u001b[38;5;124m\"\u001b[39m]\n\u001b[0;32m      3\u001b[0m \u001b[38;5;66;03m# Anvend long_horizon_ret med de relevante parametre\u001b[39;00m\n\u001b[1;32m----> 4\u001b[0m data_ret \u001b[38;5;241m=\u001b[39m long_horizon_ret(monthly, h\u001b[38;5;241m=\u001b[39mhorizon_K, impute\u001b[38;5;241m=\u001b[39m\u001b[38;5;124m\"\u001b[39m\u001b[38;5;124mzero\u001b[39m\u001b[38;5;124m\"\u001b[39m)\n\u001b[0;32m      6\u001b[0m \u001b[38;5;66;03m# Vis de første par rækker for at bekræfte resultatet\u001b[39;00m\n\u001b[0;32m      7\u001b[0m \u001b[38;5;28mprint\u001b[39m(data_ret\u001b[38;5;241m.\u001b[39mhead())\n",
      "File \u001b[1;32m~\\PycharmProjects\\Master\\General_Functions.py:54\u001b[0m, in \u001b[0;36mlong_horizon_ret\u001b[1;34m(data, h, impute)\u001b[0m\n\u001b[0;32m     52\u001b[0m \u001b[38;5;28;01mfor\u001b[39;00m l \u001b[38;5;129;01min\u001b[39;00m \u001b[38;5;28mrange\u001b[39m(\u001b[38;5;241m1\u001b[39m, h \u001b[38;5;241m+\u001b[39m \u001b[38;5;241m1\u001b[39m):\n\u001b[0;32m     53\u001b[0m     full_ret[\u001b[38;5;124mf\u001b[39m\u001b[38;5;124m'\u001b[39m\u001b[38;5;124mret_ld\u001b[39m\u001b[38;5;132;01m{\u001b[39;00ml\u001b[38;5;132;01m}\u001b[39;00m\u001b[38;5;124m'\u001b[39m] \u001b[38;5;241m=\u001b[39m full_ret\u001b[38;5;241m.\u001b[39mgroupby(\u001b[38;5;124m'\u001b[39m\u001b[38;5;124mid\u001b[39m\u001b[38;5;124m'\u001b[39m)[\u001b[38;5;124m'\u001b[39m\u001b[38;5;124mret_exc\u001b[39m\u001b[38;5;124m'\u001b[39m]\u001b[38;5;241m.\u001b[39mshift(\u001b[38;5;241m-\u001b[39ml)\n\u001b[1;32m---> 54\u001b[0m full_ret\u001b[38;5;241m.\u001b[39mdrop(columns\u001b[38;5;241m=\u001b[39m[\u001b[38;5;124m'\u001b[39m\u001b[38;5;124mret_exc\u001b[39m\u001b[38;5;124m'\u001b[39m], inplace\u001b[38;5;241m=\u001b[39m\u001b[38;5;28;01mTrue\u001b[39;00m)\n\u001b[0;32m     55\u001b[0m \u001b[38;5;28;01mif\u001b[39;00m impute \u001b[38;5;241m==\u001b[39m \u001b[38;5;124m\"\u001b[39m\u001b[38;5;124mzero\u001b[39m\u001b[38;5;124m\"\u001b[39m:\n\u001b[0;32m     56\u001b[0m     full_ret\u001b[38;5;241m.\u001b[39mupdate(full_ret\u001b[38;5;241m.\u001b[39miloc[:, \u001b[38;5;241m-\u001b[39mh:]\u001b[38;5;241m.\u001b[39mfillna(\u001b[38;5;241m0\u001b[39m))\n",
      "File \u001b[1;32m~\\anaconda3\\envs\\fin_econ_2024\\Lib\\site-packages\\pandas\\core\\frame.py:5581\u001b[0m, in \u001b[0;36mDataFrame.drop\u001b[1;34m(self, labels, axis, index, columns, level, inplace, errors)\u001b[0m\n\u001b[0;32m   5433\u001b[0m \u001b[38;5;28;01mdef\u001b[39;00m \u001b[38;5;21mdrop\u001b[39m(\n\u001b[0;32m   5434\u001b[0m     \u001b[38;5;28mself\u001b[39m,\n\u001b[0;32m   5435\u001b[0m     labels: IndexLabel \u001b[38;5;241m|\u001b[39m \u001b[38;5;28;01mNone\u001b[39;00m \u001b[38;5;241m=\u001b[39m \u001b[38;5;28;01mNone\u001b[39;00m,\n\u001b[1;32m   (...)\u001b[0m\n\u001b[0;32m   5442\u001b[0m     errors: IgnoreRaise \u001b[38;5;241m=\u001b[39m \u001b[38;5;124m\"\u001b[39m\u001b[38;5;124mraise\u001b[39m\u001b[38;5;124m\"\u001b[39m,\n\u001b[0;32m   5443\u001b[0m ) \u001b[38;5;241m-\u001b[39m\u001b[38;5;241m>\u001b[39m DataFrame \u001b[38;5;241m|\u001b[39m \u001b[38;5;28;01mNone\u001b[39;00m:\n\u001b[0;32m   5444\u001b[0m \u001b[38;5;250m    \u001b[39m\u001b[38;5;124;03m\"\"\"\u001b[39;00m\n\u001b[0;32m   5445\u001b[0m \u001b[38;5;124;03m    Drop specified labels from rows or columns.\u001b[39;00m\n\u001b[0;32m   5446\u001b[0m \n\u001b[1;32m   (...)\u001b[0m\n\u001b[0;32m   5579\u001b[0m \u001b[38;5;124;03m            weight  1.0     0.8\u001b[39;00m\n\u001b[0;32m   5580\u001b[0m \u001b[38;5;124;03m    \"\"\"\u001b[39;00m\n\u001b[1;32m-> 5581\u001b[0m     \u001b[38;5;28;01mreturn\u001b[39;00m \u001b[38;5;28msuper\u001b[39m()\u001b[38;5;241m.\u001b[39mdrop(\n\u001b[0;32m   5582\u001b[0m         labels\u001b[38;5;241m=\u001b[39mlabels,\n\u001b[0;32m   5583\u001b[0m         axis\u001b[38;5;241m=\u001b[39maxis,\n\u001b[0;32m   5584\u001b[0m         index\u001b[38;5;241m=\u001b[39mindex,\n\u001b[0;32m   5585\u001b[0m         columns\u001b[38;5;241m=\u001b[39mcolumns,\n\u001b[0;32m   5586\u001b[0m         level\u001b[38;5;241m=\u001b[39mlevel,\n\u001b[0;32m   5587\u001b[0m         inplace\u001b[38;5;241m=\u001b[39minplace,\n\u001b[0;32m   5588\u001b[0m         errors\u001b[38;5;241m=\u001b[39merrors,\n\u001b[0;32m   5589\u001b[0m     )\n",
      "File \u001b[1;32m~\\anaconda3\\envs\\fin_econ_2024\\Lib\\site-packages\\pandas\\core\\generic.py:4788\u001b[0m, in \u001b[0;36mNDFrame.drop\u001b[1;34m(self, labels, axis, index, columns, level, inplace, errors)\u001b[0m\n\u001b[0;32m   4786\u001b[0m \u001b[38;5;28;01mfor\u001b[39;00m axis, labels \u001b[38;5;129;01min\u001b[39;00m axes\u001b[38;5;241m.\u001b[39mitems():\n\u001b[0;32m   4787\u001b[0m     \u001b[38;5;28;01mif\u001b[39;00m labels \u001b[38;5;129;01mis\u001b[39;00m \u001b[38;5;129;01mnot\u001b[39;00m \u001b[38;5;28;01mNone\u001b[39;00m:\n\u001b[1;32m-> 4788\u001b[0m         obj \u001b[38;5;241m=\u001b[39m obj\u001b[38;5;241m.\u001b[39m_drop_axis(labels, axis, level\u001b[38;5;241m=\u001b[39mlevel, errors\u001b[38;5;241m=\u001b[39merrors)\n\u001b[0;32m   4790\u001b[0m \u001b[38;5;28;01mif\u001b[39;00m inplace:\n\u001b[0;32m   4791\u001b[0m     \u001b[38;5;28mself\u001b[39m\u001b[38;5;241m.\u001b[39m_update_inplace(obj)\n",
      "File \u001b[1;32m~\\anaconda3\\envs\\fin_econ_2024\\Lib\\site-packages\\pandas\\core\\generic.py:4869\u001b[0m, in \u001b[0;36mNDFrame._drop_axis\u001b[1;34m(self, labels, axis, level, errors, only_slice)\u001b[0m\n\u001b[0;32m   4866\u001b[0m     new_axis \u001b[38;5;241m=\u001b[39m axis\u001b[38;5;241m.\u001b[39mtake(indexer)\n\u001b[0;32m   4868\u001b[0m bm_axis \u001b[38;5;241m=\u001b[39m \u001b[38;5;28mself\u001b[39m\u001b[38;5;241m.\u001b[39mndim \u001b[38;5;241m-\u001b[39m axis_num \u001b[38;5;241m-\u001b[39m \u001b[38;5;241m1\u001b[39m\n\u001b[1;32m-> 4869\u001b[0m new_mgr \u001b[38;5;241m=\u001b[39m \u001b[38;5;28mself\u001b[39m\u001b[38;5;241m.\u001b[39m_mgr\u001b[38;5;241m.\u001b[39mreindex_indexer(\n\u001b[0;32m   4870\u001b[0m     new_axis,\n\u001b[0;32m   4871\u001b[0m     indexer,\n\u001b[0;32m   4872\u001b[0m     axis\u001b[38;5;241m=\u001b[39mbm_axis,\n\u001b[0;32m   4873\u001b[0m     allow_dups\u001b[38;5;241m=\u001b[39m\u001b[38;5;28;01mTrue\u001b[39;00m,\n\u001b[0;32m   4874\u001b[0m     copy\u001b[38;5;241m=\u001b[39m\u001b[38;5;28;01mNone\u001b[39;00m,\n\u001b[0;32m   4875\u001b[0m     only_slice\u001b[38;5;241m=\u001b[39monly_slice,\n\u001b[0;32m   4876\u001b[0m )\n\u001b[0;32m   4877\u001b[0m result \u001b[38;5;241m=\u001b[39m \u001b[38;5;28mself\u001b[39m\u001b[38;5;241m.\u001b[39m_constructor_from_mgr(new_mgr, axes\u001b[38;5;241m=\u001b[39mnew_mgr\u001b[38;5;241m.\u001b[39maxes)\n\u001b[0;32m   4878\u001b[0m \u001b[38;5;28;01mif\u001b[39;00m \u001b[38;5;28mself\u001b[39m\u001b[38;5;241m.\u001b[39mndim \u001b[38;5;241m==\u001b[39m \u001b[38;5;241m1\u001b[39m:\n",
      "File \u001b[1;32m~\\anaconda3\\envs\\fin_econ_2024\\Lib\\site-packages\\pandas\\core\\internals\\managers.py:680\u001b[0m, in \u001b[0;36mBaseBlockManager.reindex_indexer\u001b[1;34m(self, new_axis, indexer, axis, fill_value, allow_dups, copy, only_slice, use_na_proxy)\u001b[0m\n\u001b[0;32m    677\u001b[0m     \u001b[38;5;28;01mraise\u001b[39;00m \u001b[38;5;167;01mIndexError\u001b[39;00m(\u001b[38;5;124m\"\u001b[39m\u001b[38;5;124mRequested axis not found in manager\u001b[39m\u001b[38;5;124m\"\u001b[39m)\n\u001b[0;32m    679\u001b[0m \u001b[38;5;28;01mif\u001b[39;00m axis \u001b[38;5;241m==\u001b[39m \u001b[38;5;241m0\u001b[39m:\n\u001b[1;32m--> 680\u001b[0m     new_blocks \u001b[38;5;241m=\u001b[39m \u001b[38;5;28mself\u001b[39m\u001b[38;5;241m.\u001b[39m_slice_take_blocks_ax0(\n\u001b[0;32m    681\u001b[0m         indexer,\n\u001b[0;32m    682\u001b[0m         fill_value\u001b[38;5;241m=\u001b[39mfill_value,\n\u001b[0;32m    683\u001b[0m         only_slice\u001b[38;5;241m=\u001b[39monly_slice,\n\u001b[0;32m    684\u001b[0m         use_na_proxy\u001b[38;5;241m=\u001b[39muse_na_proxy,\n\u001b[0;32m    685\u001b[0m     )\n\u001b[0;32m    686\u001b[0m \u001b[38;5;28;01melse\u001b[39;00m:\n\u001b[0;32m    687\u001b[0m     new_blocks \u001b[38;5;241m=\u001b[39m [\n\u001b[0;32m    688\u001b[0m         blk\u001b[38;5;241m.\u001b[39mtake_nd(\n\u001b[0;32m    689\u001b[0m             indexer,\n\u001b[1;32m   (...)\u001b[0m\n\u001b[0;32m    695\u001b[0m         \u001b[38;5;28;01mfor\u001b[39;00m blk \u001b[38;5;129;01min\u001b[39;00m \u001b[38;5;28mself\u001b[39m\u001b[38;5;241m.\u001b[39mblocks\n\u001b[0;32m    696\u001b[0m     ]\n",
      "File \u001b[1;32m~\\anaconda3\\envs\\fin_econ_2024\\Lib\\site-packages\\pandas\\core\\internals\\managers.py:843\u001b[0m, in \u001b[0;36mBaseBlockManager._slice_take_blocks_ax0\u001b[1;34m(self, slice_or_indexer, fill_value, only_slice, use_na_proxy, ref_inplace_op)\u001b[0m\n\u001b[0;32m    841\u001b[0m                     blocks\u001b[38;5;241m.\u001b[39mappend(nb)\n\u001b[0;32m    842\u001b[0m             \u001b[38;5;28;01melse\u001b[39;00m:\n\u001b[1;32m--> 843\u001b[0m                 nb \u001b[38;5;241m=\u001b[39m blk\u001b[38;5;241m.\u001b[39mtake_nd(taker, axis\u001b[38;5;241m=\u001b[39m\u001b[38;5;241m0\u001b[39m, new_mgr_locs\u001b[38;5;241m=\u001b[39mmgr_locs)\n\u001b[0;32m    844\u001b[0m                 blocks\u001b[38;5;241m.\u001b[39mappend(nb)\n\u001b[0;32m    846\u001b[0m \u001b[38;5;28;01mreturn\u001b[39;00m blocks\n",
      "File \u001b[1;32m~\\anaconda3\\envs\\fin_econ_2024\\Lib\\site-packages\\pandas\\core\\internals\\blocks.py:1307\u001b[0m, in \u001b[0;36mBlock.take_nd\u001b[1;34m(self, indexer, axis, new_mgr_locs, fill_value)\u001b[0m\n\u001b[0;32m   1304\u001b[0m     allow_fill \u001b[38;5;241m=\u001b[39m \u001b[38;5;28;01mTrue\u001b[39;00m\n\u001b[0;32m   1306\u001b[0m \u001b[38;5;66;03m# Note: algos.take_nd has upcast logic similar to coerce_to_target_dtype\u001b[39;00m\n\u001b[1;32m-> 1307\u001b[0m new_values \u001b[38;5;241m=\u001b[39m algos\u001b[38;5;241m.\u001b[39mtake_nd(\n\u001b[0;32m   1308\u001b[0m     values, indexer, axis\u001b[38;5;241m=\u001b[39maxis, allow_fill\u001b[38;5;241m=\u001b[39mallow_fill, fill_value\u001b[38;5;241m=\u001b[39mfill_value\n\u001b[0;32m   1309\u001b[0m )\n\u001b[0;32m   1311\u001b[0m \u001b[38;5;66;03m# Called from three places in managers, all of which satisfy\u001b[39;00m\n\u001b[0;32m   1312\u001b[0m \u001b[38;5;66;03m#  these assertions\u001b[39;00m\n\u001b[0;32m   1313\u001b[0m \u001b[38;5;28;01mif\u001b[39;00m \u001b[38;5;28misinstance\u001b[39m(\u001b[38;5;28mself\u001b[39m, ExtensionBlock):\n\u001b[0;32m   1314\u001b[0m     \u001b[38;5;66;03m# NB: in this case, the 'axis' kwarg will be ignored in the\u001b[39;00m\n\u001b[0;32m   1315\u001b[0m     \u001b[38;5;66;03m#  algos.take_nd call above.\u001b[39;00m\n",
      "File \u001b[1;32m~\\anaconda3\\envs\\fin_econ_2024\\Lib\\site-packages\\pandas\\core\\array_algos\\take.py:117\u001b[0m, in \u001b[0;36mtake_nd\u001b[1;34m(arr, indexer, axis, fill_value, allow_fill)\u001b[0m\n\u001b[0;32m    114\u001b[0m     \u001b[38;5;28;01mreturn\u001b[39;00m arr\u001b[38;5;241m.\u001b[39mtake(indexer, fill_value\u001b[38;5;241m=\u001b[39mfill_value, allow_fill\u001b[38;5;241m=\u001b[39mallow_fill)\n\u001b[0;32m    116\u001b[0m arr \u001b[38;5;241m=\u001b[39m np\u001b[38;5;241m.\u001b[39masarray(arr)\n\u001b[1;32m--> 117\u001b[0m \u001b[38;5;28;01mreturn\u001b[39;00m _take_nd_ndarray(arr, indexer, axis, fill_value, allow_fill)\n",
      "File \u001b[1;32m~\\anaconda3\\envs\\fin_econ_2024\\Lib\\site-packages\\pandas\\core\\array_algos\\take.py:155\u001b[0m, in \u001b[0;36m_take_nd_ndarray\u001b[1;34m(arr, indexer, axis, fill_value, allow_fill)\u001b[0m\n\u001b[0;32m    149\u001b[0m out_shape \u001b[38;5;241m=\u001b[39m \u001b[38;5;28mtuple\u001b[39m(out_shape_)\n\u001b[0;32m    150\u001b[0m \u001b[38;5;28;01mif\u001b[39;00m arr\u001b[38;5;241m.\u001b[39mflags\u001b[38;5;241m.\u001b[39mf_contiguous \u001b[38;5;129;01mand\u001b[39;00m axis \u001b[38;5;241m==\u001b[39m arr\u001b[38;5;241m.\u001b[39mndim \u001b[38;5;241m-\u001b[39m \u001b[38;5;241m1\u001b[39m:\n\u001b[0;32m    151\u001b[0m     \u001b[38;5;66;03m# minor tweak that can make an order-of-magnitude difference\u001b[39;00m\n\u001b[0;32m    152\u001b[0m     \u001b[38;5;66;03m# for dataframes initialized directly from 2-d ndarrays\u001b[39;00m\n\u001b[0;32m    153\u001b[0m     \u001b[38;5;66;03m# (s.t. df.values is c-contiguous and df._mgr.blocks[0] is its\u001b[39;00m\n\u001b[0;32m    154\u001b[0m     \u001b[38;5;66;03m# f-contiguous transpose)\u001b[39;00m\n\u001b[1;32m--> 155\u001b[0m     out \u001b[38;5;241m=\u001b[39m np\u001b[38;5;241m.\u001b[39mempty(out_shape, dtype\u001b[38;5;241m=\u001b[39mdtype, order\u001b[38;5;241m=\u001b[39m\u001b[38;5;124m\"\u001b[39m\u001b[38;5;124mF\u001b[39m\u001b[38;5;124m\"\u001b[39m)\n\u001b[0;32m    156\u001b[0m \u001b[38;5;28;01melse\u001b[39;00m:\n\u001b[0;32m    157\u001b[0m     out \u001b[38;5;241m=\u001b[39m np\u001b[38;5;241m.\u001b[39mempty(out_shape, dtype\u001b[38;5;241m=\u001b[39mdtype)\n",
      "\u001b[1;31mMemoryError\u001b[0m: Unable to allocate 338. MiB for an array with shape (44305800, 1) and data type float64"
     ]
    }
   ],
   "source": [
    "horizon_K = settings[\"pf\"][\"hps\"][\"m1\"][\"K\"]\n",
    "\n",
    "# Anvend long_horizon_ret med de relevante parametre\n",
    "data_ret = long_horizon_ret(monthly, h=horizon_K, impute=\"zero\")\n",
    "\n",
    "# Vis de første par rækker for at bekræfte resultatet\n",
    "print(data_ret.head())"
   ]
  },
  {
   "cell_type": "code",
   "execution_count": null,
   "id": "2539df89-dea1-4dd7-9f20-b2f82611c567",
   "metadata": {},
   "outputs": [],
   "source": []
  }
 ],
 "metadata": {
  "kernelspec": {
   "display_name": "Python 3 (ipykernel)",
   "language": "python",
   "name": "python3"
  },
  "language_info": {
   "codemirror_mode": {
    "name": "ipython",
    "version": 3
   },
   "file_extension": ".py",
   "mimetype": "text/x-python",
   "name": "python",
   "nbconvert_exporter": "python",
   "pygments_lexer": "ipython3",
   "version": "3.12.5"
  }
 },
 "nbformat": 4,
 "nbformat_minor": 5
}
