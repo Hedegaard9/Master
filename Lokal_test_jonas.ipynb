{
 "cells": [
  {
   "cell_type": "code",
   "execution_count": 28,
   "id": "e236671d-9024-452f-a612-cb725c6c4c93",
   "metadata": {},
   "outputs": [],
   "source": [
    "import numpy as np\n",
    "import ewma\n",
    "import sqrtm_cpp\n",
    "from portfolio_choice_functions import m_func"
   ]
  },
  {
   "cell_type": "code",
   "execution_count": 23,
   "id": "aed58026-f725-4000-b22f-5b59d23fbdd6",
   "metadata": {},
   "outputs": [],
   "source": [
    "def m_func(w, mu, rf, sigma_gam, gam, lambda_mat, iter):\n",
    "    n = lambda_mat.shape[0]\n",
    "    g_bar = np.ones(n)\n",
    "    mu_bar_vec = np.ones(n) * (1 + rf + mu)\n",
    "    \n",
    "    # Beregning af sigma_gr\n",
    "    sigma_gr = (1 + rf + mu)**-2 * (np.outer(mu_bar_vec, mu_bar_vec) + sigma_gam / gam)\n",
    "    \n",
    "    # Beregning af lambda^(-0.5), da lambda er diagonal\n",
    "    lamb_neg05 = np.diag(np.diag(lambda_mat) ** -0.5)\n",
    "    \n",
    "    # Placeholder for x\n",
    "    x = w**-1 * lamb_neg05 @ sigma_gam @ lamb_neg05\n",
    "    y = np.diag(1 + np.diag(sigma_gr))\n",
    "    \n",
    "    # Iteration på F\n",
    "    sigma_hat = x + np.diag(1 + g_bar)\n",
    "    \n",
    "    # Brug C++-implementering af sqrtm, og tag realdelen\n",
    "    sqrt_term = np.real(sqrtm_cpp.sqrtm_cpp(sigma_hat @ sigma_hat - 4 * np.eye(n)))\n",
    "    \n",
    "    m_tilde = 0.5 * (sigma_hat - sqrt_term)\n",
    "    for _ in range(iter):\n",
    "        m_tilde = np.linalg.inv(x + y - m_tilde * sigma_gr)  # Elementvis multiplikation\n",
    "       \n",
    "    # Output: Beregn elementvis kvadratrod af lambda\n",
    "    return lamb_neg05 @ m_tilde @ np.diag(np.sqrt(np.diag(lambda_mat)))"
   ]
  },
  {
   "cell_type": "code",
   "execution_count": 27,
   "id": "5c42a251-310e-4f49-9fd5-4b4e689d84cb",
   "metadata": {},
   "outputs": [
    {
     "name": "stdout",
     "output_type": "stream",
     "text": [
      "Resultat matrix:\n",
      "[[ 0.50214045 -0.03430049 -0.09291139]\n",
      " [-0.0137202   0.62137023 -0.07985365]\n",
      " [-0.02322785 -0.04990853  0.67206653]]\n"
     ]
    }
   ],
   "source": [
    "# Definér faste inputparametre\n",
    "sigma_gam = np.array([[0.05, 0.01, 0.02],\n",
    "                      [0.01, 0.06, 0.03],\n",
    "                      [0.02, 0.03, 0.07]])\n",
    "lambda_mat = np.diag([0.2, 0.5, 0.8])\n",
    "w = 0.5\n",
    "mu = 0.05\n",
    "rf = 0.02\n",
    "gam = 2\n",
    "iter = 10\n",
    "\n",
    "# Kald funktionen m_func\n",
    "result = m_func(w, mu, rf, sigma_gam, gam, lambda_mat, iter)\n",
    "\n",
    "# Vis resultatet\n",
    "print(\"Resultat matrix:\")\n",
    "print(result)"
   ]
  },
  {
   "cell_type": "code",
   "execution_count": null,
   "id": "ffa6f1df-f0c4-4080-afa1-ba0a0a75dc94",
   "metadata": {},
   "outputs": [],
   "source": []
  },
  {
   "cell_type": "code",
   "execution_count": null,
   "id": "09032def-5893-4335-8eb2-821175473bbe",
   "metadata": {},
   "outputs": [],
   "source": []
  }
 ],
 "metadata": {
  "kernelspec": {
   "display_name": "Python 3 (ipykernel)",
   "language": "python",
   "name": "python3"
  },
  "language_info": {
   "codemirror_mode": {
    "name": "ipython",
    "version": 3
   },
   "file_extension": ".py",
   "mimetype": "text/x-python",
   "name": "python",
   "nbconvert_exporter": "python",
   "pygments_lexer": "ipython3",
   "version": "3.12.4"
  }
 },
 "nbformat": 4,
 "nbformat_minor": 5
}
