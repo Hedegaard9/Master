{
 "cells": [
  {
   "cell_type": "code",
   "execution_count": 9,
   "id": "e236671d-9024-452f-a612-cb725c6c4c93",
   "metadata": {},
   "outputs": [],
   "source": [
    "import pandas as pd\n",
    "import numpy as np\n",
    "import ewma\n",
    "import sqrtm_cpp\n",
    "from portfolio_choice_functions import m_func, m_static"
   ]
  },
  {
   "cell_type": "code",
   "execution_count": 2,
   "id": "5c42a251-310e-4f49-9fd5-4b4e689d84cb",
   "metadata": {},
   "outputs": [
    {
     "name": "stdout",
     "output_type": "stream",
     "text": [
      "Resultat matrix:\n",
      "[[ 0.50214045 -0.03430049 -0.09291139]\n",
      " [-0.0137202   0.62137023 -0.07985365]\n",
      " [-0.02322785 -0.04990853  0.67206653]]\n"
     ]
    }
   ],
   "source": [
    "# Definér faste inputparametre\n",
    "sigma_gam = np.array([[0.05, 0.01, 0.02],\n",
    "                      [0.01, 0.06, 0.03],\n",
    "                      [0.02, 0.03, 0.07]])\n",
    "lambda_mat = np.diag([0.2, 0.5, 0.8])\n",
    "w = 0.5\n",
    "mu = 0.05\n",
    "rf = 0.02\n",
    "gam = 2\n",
    "iter = 10\n",
    "\n",
    "# Kald funktionen m_func\n",
    "result = m_func(w, mu, rf, sigma_gam, gam, lambda_mat, iter)\n",
    "\n",
    "# Vis resultatet\n",
    "print(\"Resultat matrix:\")\n",
    "print(result)"
   ]
  },
  {
   "cell_type": "code",
   "execution_count": 6,
   "id": "ffa6f1df-f0c4-4080-afa1-ba0a0a75dc94",
   "metadata": {},
   "outputs": [
    {
     "name": "stdout",
     "output_type": "stream",
     "text": [
      "Resultat matrix:\n",
      "[[ 0.40707902 -0.0566247  -0.09691179]\n",
      " [-0.02264988  0.53522722 -0.06757833]\n",
      " [-0.02422795 -0.04223646  0.58345104]]\n"
     ]
    }
   ],
   "source": [
    "# Definér faste inputparametre\n",
    "sigma_gam = np.array([[0.1, 0.02, 0.03],\n",
    "                      [0.02, 0.15, 0.04],\n",
    "                      [0.03, 0.04, 0.2]])\n",
    "lambda_mat = np.diag([0.2, 0.5, 0.8])\n",
    "w = 0.5\n",
    "phi = 1.5\n",
    "\n",
    "# Kald funktionen m_func\n",
    "result2 = m_static(sigma_gam, w, lambda_mat, phi)\n",
    "\n",
    "# Vis resultatet\n",
    "print(\"Resultat matrix:\")\n",
    "print(result2)"
   ]
  },
  {
   "cell_type": "code",
   "execution_count": 12,
   "id": "bcdbf519-e4f8-48ce-a199-e832d46bb874",
   "metadata": {},
   "outputs": [
    {
     "name": "stdout",
     "output_type": "stream",
     "text": [
      "Resultat:\n",
      "   inv  shorting  turnover      r       tc    eom_ret\n",
      "0  0.5       0.0       0.1  0.001  162.500 2023-02-28\n",
      "1  0.2       0.1       0.1  0.001  170.625 2023-03-28\n"
     ]
    },
    {
     "name": "stderr",
     "output_type": "stream",
     "text": [
      "C:\\Users\\jonas\\AppData\\Local\\Temp\\ipykernel_5624\\900762604.py:31: DeprecationWarning: DataFrameGroupBy.apply operated on the grouping columns. This behavior is deprecated, and in a future version of pandas the grouping columns will be excluded from the operation. Either pass `include_groups=False` to exclude the groupings or explicitly select the grouping columns after groupby to silence this warning.\n",
      "  result = comb.groupby('eom').apply(agg_func).reset_index()\n"
     ]
    }
   ],
   "source": [
    "def pf_ts_fun(weights, data, wealth, gam):\n",
    "    # Første join: Vælg de relevante kolonner fra data og join weights på 'id' og 'eom'\n",
    "    comb = pd.merge(weights, \n",
    "                    data[['id', 'eom', 'ret_ld1', 'pred_ld1', 'lambda']], \n",
    "                    on=['id', 'eom'], \n",
    "                    how='left')\n",
    "    \n",
    "    # Andet join: Join med wealth-data på 'eom'\n",
    "    comb = pd.merge(comb, \n",
    "                    wealth[['eom', 'wealth']], \n",
    "                    on='eom', \n",
    "                    how='left')\n",
    "    \n",
    "    # Gruppér på 'eom' og beregn de ønskede aggregater\n",
    "    def agg_func(group):\n",
    "        inv = np.abs(group['w']).sum()\n",
    "        shorting = np.abs(group.loc[group['w'] < 0, 'w']).sum()\n",
    "        turnover = np.abs(group['w'] - group['w_start']).sum()\n",
    "        r_val = (group['w'] * group['ret_ld1']).sum()\n",
    "        # Antag, at wealth er konstant pr. eom – tag den første værdi\n",
    "        unique_wealth = group['wealth'].iloc[0]\n",
    "        tc = unique_wealth / 2 * (group['lambda'] * (group['w'] - group['w_start'])**2).sum()\n",
    "        return pd.Series({\n",
    "            'inv': inv,\n",
    "            'shorting': shorting,\n",
    "            'turnover': turnover,\n",
    "            'r': r_val,\n",
    "            'tc': tc\n",
    "        })\n",
    "    \n",
    "    result = comb.groupby('eom').apply(agg_func).reset_index()\n",
    "    \n",
    "    # Beregn eom_ret = eom + 1 måned\n",
    "    # Her antages det, at eom er af datetime-type; ellers skal du konvertere.\n",
    "    if np.issubdtype(result['eom'].dtype, np.datetime64):\n",
    "        result['eom_ret'] = result['eom'] + pd.DateOffset(months=1)\n",
    "    else:\n",
    "        # Hvis ikke, kan du evt. blot sætte eom_ret til eom eller konvertere eom til datetime.\n",
    "        result['eom_ret'] = result['eom']\n",
    "    \n",
    "    # Fjern eom-kolonnen\n",
    "    result = result.drop(columns='eom')\n",
    "    \n",
    "    return result\n",
    "\n",
    "# Eksempeldata:\n",
    "# Opret et eksempel på weights-DataFrame\n",
    "weights = pd.DataFrame({\n",
    "    'id': [1, 1, 2, 2],\n",
    "    'eom': pd.to_datetime(['2023-01-31', '2023-02-28', '2023-01-31', '2023-02-28']),\n",
    "    'w': [0.2, -0.1, 0.3, 0.1],\n",
    "    'w_start': [0.15, -0.05, 0.25, 0.05]\n",
    "})\n",
    "\n",
    "# Eksempel på data-DataFrame\n",
    "data = pd.DataFrame({\n",
    "    'id': [1, 1, 2, 2],\n",
    "    'eom': pd.to_datetime(['2023-01-31', '2023-02-28', '2023-01-31', '2023-02-28']),\n",
    "    'ret_ld1': [0.02, 0.03, -0.01, 0.04],\n",
    "    'pred_ld1': [0.025, 0.035, -0.005, 0.045],\n",
    "    'lambda': [0.5, 0.5, 0.8, 0.8]\n",
    "})\n",
    "\n",
    "# Eksempel på wealth-DataFrame\n",
    "wealth = pd.DataFrame({\n",
    "    'eom': pd.to_datetime(['2023-01-31', '2023-02-28']),\n",
    "    'wealth': [100000, 105000]\n",
    "})\n",
    "\n",
    "# Kald funktionen med et eksempel (gam anvendes her, men virker ikke i udregningen, så vi sender fx 1)\n",
    "result = pf_ts_fun(weights, data, wealth, gam=1)\n",
    "\n",
    "print(\"Resultat:\")\n",
    "print(result)\n"
   ]
  },
  {
   "cell_type": "code",
   "execution_count": null,
   "id": "8b4d2544-25fb-496c-a71a-58b319de695a",
   "metadata": {},
   "outputs": [],
   "source": []
  }
 ],
 "metadata": {
  "kernelspec": {
   "display_name": "Python 3 (ipykernel)",
   "language": "python",
   "name": "python3"
  },
  "language_info": {
   "codemirror_mode": {
    "name": "ipython",
    "version": 3
   },
   "file_extension": ".py",
   "mimetype": "text/x-python",
   "name": "python",
   "nbconvert_exporter": "python",
   "pygments_lexer": "ipython3",
   "version": "3.12.4"
  }
 },
 "nbformat": 4,
 "nbformat_minor": 5
}
